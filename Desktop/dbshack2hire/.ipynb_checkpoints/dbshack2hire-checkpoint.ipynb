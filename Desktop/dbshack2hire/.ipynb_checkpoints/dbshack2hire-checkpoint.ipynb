{
 "cells": [
  {
   "cell_type": "code",
   "execution_count": 83,
   "metadata": {
    "collapsed": false
   },
   "outputs": [],
   "source": [
    "import numpy as np\n",
    "import pandas as pd\n",
    "import matplotlib.pyplot as plt\n",
    "from math import sin, cos, sqrt, atan2, radians\n",
    "import seaborn as sns\n",
    "%matplotlib inline\n",
    "import datetime,time\n"
   ]
  },
  {
   "cell_type": "code",
   "execution_count": null,
   "metadata": {
    "collapsed": true
   },
   "outputs": [],
   "source": []
  },
  {
   "cell_type": "code",
   "execution_count": 84,
   "metadata": {
    "collapsed": false
   },
   "outputs": [],
   "source": [
    "pos=pd.read_csv('pos_device.csv').head(100)\n",
    "pos1=pos.dropna(inplace=False)\n",
    "\n",
    "\n"
   ]
  },
  {
   "cell_type": "code",
   "execution_count": 85,
   "metadata": {
    "collapsed": false
   },
   "outputs": [
    {
     "data": {
      "text/html": [
       "<div>\n",
       "<table border=\"1\" class=\"dataframe\">\n",
       "  <thead>\n",
       "    <tr style=\"text-align: right;\">\n",
       "      <th></th>\n",
       "      <th>id</th>\n",
       "      <th>location</th>\n",
       "      <th>merchant_name</th>\n",
       "    </tr>\n",
       "  </thead>\n",
       "  <tbody>\n",
       "    <tr>\n",
       "      <th>0</th>\n",
       "      <td>3143</td>\n",
       "      <td>Weston County, Wyoming</td>\n",
       "      <td>Merchant 3142</td>\n",
       "    </tr>\n",
       "    <tr>\n",
       "      <th>1</th>\n",
       "      <td>3142</td>\n",
       "      <td>Washakie County, Wyoming</td>\n",
       "      <td>Merchant 3141</td>\n",
       "    </tr>\n",
       "    <tr>\n",
       "      <th>2</th>\n",
       "      <td>3141</td>\n",
       "      <td>Uinta County, Wyoming</td>\n",
       "      <td>Merchant 3140</td>\n",
       "    </tr>\n",
       "    <tr>\n",
       "      <th>3</th>\n",
       "      <td>3140</td>\n",
       "      <td>Teton County, Wyoming</td>\n",
       "      <td>Merchant 3139</td>\n",
       "    </tr>\n",
       "    <tr>\n",
       "      <th>4</th>\n",
       "      <td>3139</td>\n",
       "      <td>Sweetwater County, Wyoming</td>\n",
       "      <td>Merchant 3138</td>\n",
       "    </tr>\n",
       "    <tr>\n",
       "      <th>5</th>\n",
       "      <td>3138</td>\n",
       "      <td>Sublette County, Wyoming</td>\n",
       "      <td>Merchant 3137</td>\n",
       "    </tr>\n",
       "    <tr>\n",
       "      <th>6</th>\n",
       "      <td>3137</td>\n",
       "      <td>Sheridan County, Wyoming</td>\n",
       "      <td>Merchant 3136</td>\n",
       "    </tr>\n",
       "    <tr>\n",
       "      <th>7</th>\n",
       "      <td>3136</td>\n",
       "      <td>Platte County, Wyoming</td>\n",
       "      <td>Merchant 3135</td>\n",
       "    </tr>\n",
       "    <tr>\n",
       "      <th>8</th>\n",
       "      <td>3135</td>\n",
       "      <td>Park County, Wyoming</td>\n",
       "      <td>Merchant 3134</td>\n",
       "    </tr>\n",
       "    <tr>\n",
       "      <th>9</th>\n",
       "      <td>3134</td>\n",
       "      <td>Niobrara County, Wyoming</td>\n",
       "      <td>Merchant 3133</td>\n",
       "    </tr>\n",
       "  </tbody>\n",
       "</table>\n",
       "</div>"
      ],
      "text/plain": [
       "     id                    location  merchant_name\n",
       "0  3143      Weston County, Wyoming  Merchant 3142\n",
       "1  3142    Washakie County, Wyoming  Merchant 3141\n",
       "2  3141       Uinta County, Wyoming  Merchant 3140\n",
       "3  3140       Teton County, Wyoming  Merchant 3139\n",
       "4  3139  Sweetwater County, Wyoming  Merchant 3138\n",
       "5  3138    Sublette County, Wyoming  Merchant 3137\n",
       "6  3137    Sheridan County, Wyoming  Merchant 3136\n",
       "7  3136      Platte County, Wyoming  Merchant 3135\n",
       "8  3135        Park County, Wyoming  Merchant 3134\n",
       "9  3134    Niobrara County, Wyoming  Merchant 3133"
      ]
     },
     "execution_count": 85,
     "metadata": {},
     "output_type": "execute_result"
    }
   ],
   "source": [
    "pos1.head(10)"
   ]
  },
  {
   "cell_type": "code",
   "execution_count": 86,
   "metadata": {
    "collapsed": false
   },
   "outputs": [],
   "source": [
    "def findLen1(msg):\n",
    "    return msg.split(',')[0].replace('County','')\n",
    "\n",
    "def findLen2(msg):\n",
    "    return msg.split(',')[1]\n",
    "pos1['country1'] = pos1['location'].apply(findLen1)\n",
    "pos1['name1'] = pos1['location'].apply(findLen2)\n",
    "\n",
    "   \n"
   ]
  },
  {
   "cell_type": "code",
   "execution_count": 87,
   "metadata": {
    "collapsed": false
   },
   "outputs": [
    {
     "data": {
      "text/html": [
       "<div>\n",
       "<table border=\"1\" class=\"dataframe\">\n",
       "  <thead>\n",
       "    <tr style=\"text-align: right;\">\n",
       "      <th></th>\n",
       "      <th>id</th>\n",
       "      <th>location</th>\n",
       "      <th>merchant_name</th>\n",
       "      <th>country1</th>\n",
       "      <th>name1</th>\n",
       "    </tr>\n",
       "  </thead>\n",
       "  <tbody>\n",
       "    <tr>\n",
       "      <th>0</th>\n",
       "      <td>3143</td>\n",
       "      <td>Weston County, Wyoming</td>\n",
       "      <td>Merchant 3142</td>\n",
       "      <td>Weston</td>\n",
       "      <td>Wyoming</td>\n",
       "    </tr>\n",
       "  </tbody>\n",
       "</table>\n",
       "</div>"
      ],
      "text/plain": [
       "     id                location  merchant_name country1     name1\n",
       "0  3143  Weston County, Wyoming  Merchant 3142  Weston    Wyoming"
      ]
     },
     "execution_count": 87,
     "metadata": {},
     "output_type": "execute_result"
    }
   ],
   "source": [
    "pos1.head(1)"
   ]
  },
  {
   "cell_type": "code",
   "execution_count": 88,
   "metadata": {
    "collapsed": false
   },
   "outputs": [],
   "source": [
    "tras1=pd.read_csv('transaction.csv').head(100)\n",
    "#tras=tras1[tras1['account_id']==674].sort_values(['account_id','ts_millis'],axis=0)\n",
    "tras=pd.read_csv('transaction.csv')\n",
    "\n"
   ]
  },
  {
   "cell_type": "code",
   "execution_count": 89,
   "metadata": {
    "collapsed": false
   },
   "outputs": [
    {
     "data": {
      "text/html": [
       "<div>\n",
       "<table border=\"1\" class=\"dataframe\">\n",
       "  <thead>\n",
       "    <tr style=\"text-align: right;\">\n",
       "      <th></th>\n",
       "      <th>id</th>\n",
       "      <th>device_id</th>\n",
       "      <th>transaction_value</th>\n",
       "      <th>account_id</th>\n",
       "      <th>ts_millis</th>\n",
       "    </tr>\n",
       "  </thead>\n",
       "  <tbody>\n",
       "    <tr>\n",
       "      <th>0</th>\n",
       "      <td>7904198659766555963</td>\n",
       "      <td>1445</td>\n",
       "      <td>77.79</td>\n",
       "      <td>4588</td>\n",
       "      <td>1464898317855</td>\n",
       "    </tr>\n",
       "    <tr>\n",
       "      <th>1</th>\n",
       "      <td>5180973598844743139</td>\n",
       "      <td>2255</td>\n",
       "      <td>153.28</td>\n",
       "      <td>2255</td>\n",
       "      <td>1464898317833</td>\n",
       "    </tr>\n",
       "    <tr>\n",
       "      <th>2</th>\n",
       "      <td>7972923608280659144</td>\n",
       "      <td>1636</td>\n",
       "      <td>87.52</td>\n",
       "      <td>4779</td>\n",
       "      <td>1464898317848</td>\n",
       "    </tr>\n",
       "    <tr>\n",
       "      <th>3</th>\n",
       "      <td>9194658102408622583</td>\n",
       "      <td>1563</td>\n",
       "      <td>51.81</td>\n",
       "      <td>1563</td>\n",
       "      <td>1464898317825</td>\n",
       "    </tr>\n",
       "    <tr>\n",
       "      <th>4</th>\n",
       "      <td>8382448107208472179</td>\n",
       "      <td>2644</td>\n",
       "      <td>22.17</td>\n",
       "      <td>2644</td>\n",
       "      <td>1464898317840</td>\n",
       "    </tr>\n",
       "    <tr>\n",
       "      <th>5</th>\n",
       "      <td>6660366874560641291</td>\n",
       "      <td>88</td>\n",
       "      <td>66.63</td>\n",
       "      <td>3231</td>\n",
       "      <td>1464898317818</td>\n",
       "    </tr>\n",
       "    <tr>\n",
       "      <th>6</th>\n",
       "      <td>8141418762289150273</td>\n",
       "      <td>1176</td>\n",
       "      <td>72.64</td>\n",
       "      <td>1176</td>\n",
       "      <td>1464898317792</td>\n",
       "    </tr>\n",
       "    <tr>\n",
       "      <th>7</th>\n",
       "      <td>5911096420241268951</td>\n",
       "      <td>2138</td>\n",
       "      <td>116.21</td>\n",
       "      <td>2138</td>\n",
       "      <td>1464898317809</td>\n",
       "    </tr>\n",
       "    <tr>\n",
       "      <th>8</th>\n",
       "      <td>5688150609979105873</td>\n",
       "      <td>2065</td>\n",
       "      <td>81.48</td>\n",
       "      <td>3283</td>\n",
       "      <td>1464898317775</td>\n",
       "    </tr>\n",
       "    <tr>\n",
       "      <th>9</th>\n",
       "      <td>6927312586529936216</td>\n",
       "      <td>1487</td>\n",
       "      <td>114.09</td>\n",
       "      <td>4630</td>\n",
       "      <td>1464898317800</td>\n",
       "    </tr>\n",
       "  </tbody>\n",
       "</table>\n",
       "</div>"
      ],
      "text/plain": [
       "                    id  device_id  transaction_value  account_id  \\\n",
       "0  7904198659766555963       1445              77.79        4588   \n",
       "1  5180973598844743139       2255             153.28        2255   \n",
       "2  7972923608280659144       1636              87.52        4779   \n",
       "3  9194658102408622583       1563              51.81        1563   \n",
       "4  8382448107208472179       2644              22.17        2644   \n",
       "5  6660366874560641291         88              66.63        3231   \n",
       "6  8141418762289150273       1176              72.64        1176   \n",
       "7  5911096420241268951       2138             116.21        2138   \n",
       "8  5688150609979105873       2065              81.48        3283   \n",
       "9  6927312586529936216       1487             114.09        4630   \n",
       "\n",
       "       ts_millis  \n",
       "0  1464898317855  \n",
       "1  1464898317833  \n",
       "2  1464898317848  \n",
       "3  1464898317825  \n",
       "4  1464898317840  \n",
       "5  1464898317818  \n",
       "6  1464898317792  \n",
       "7  1464898317809  \n",
       "8  1464898317775  \n",
       "9  1464898317800  "
      ]
     },
     "execution_count": 89,
     "metadata": {},
     "output_type": "execute_result"
    }
   ],
   "source": [
    "tras.head(10)"
   ]
  },
  {
   "cell_type": "code",
   "execution_count": 90,
   "metadata": {
    "collapsed": false
   },
   "outputs": [
    {
     "data": {
      "text/html": [
       "<div>\n",
       "<table border=\"1\" class=\"dataframe\">\n",
       "  <thead>\n",
       "    <tr style=\"text-align: right;\">\n",
       "      <th></th>\n",
       "      <th>zip</th>\n",
       "      <th>latitude</th>\n",
       "      <th>longitude</th>\n",
       "      <th>city</th>\n",
       "      <th>state</th>\n",
       "      <th>county</th>\n",
       "      <th>name</th>\n",
       "    </tr>\n",
       "  </thead>\n",
       "  <tbody>\n",
       "    <tr>\n",
       "      <th>0</th>\n",
       "      <td>3299</td>\n",
       "      <td>43.524872</td>\n",
       "      <td>-71.445841</td>\n",
       "      <td>Tilton</td>\n",
       "      <td>NH</td>\n",
       "      <td>Belknap</td>\n",
       "      <td>New Hampshire</td>\n",
       "    </tr>\n",
       "    <tr>\n",
       "      <th>1</th>\n",
       "      <td>7001</td>\n",
       "      <td>40.582845</td>\n",
       "      <td>-74.275240</td>\n",
       "      <td>Avenel</td>\n",
       "      <td>NJ</td>\n",
       "      <td>Middlesex</td>\n",
       "      <td>New Jersey</td>\n",
       "    </tr>\n",
       "    <tr>\n",
       "      <th>3</th>\n",
       "      <td>8899</td>\n",
       "      <td>40.520254</td>\n",
       "      <td>-74.420545</td>\n",
       "      <td>Edison</td>\n",
       "      <td>NJ</td>\n",
       "      <td>Middlesex</td>\n",
       "      <td>New Jersey</td>\n",
       "    </tr>\n",
       "    <tr>\n",
       "      <th>5</th>\n",
       "      <td>13440</td>\n",
       "      <td>43.208860</td>\n",
       "      <td>-75.383365</td>\n",
       "      <td>Rome</td>\n",
       "      <td>NY</td>\n",
       "      <td>Oneida</td>\n",
       "      <td>New York</td>\n",
       "    </tr>\n",
       "    <tr>\n",
       "      <th>6</th>\n",
       "      <td>31546</td>\n",
       "      <td>31.531938</td>\n",
       "      <td>-81.804924</td>\n",
       "      <td>Jesup</td>\n",
       "      <td>GA</td>\n",
       "      <td>Wayne</td>\n",
       "      <td>Georgia</td>\n",
       "    </tr>\n",
       "  </tbody>\n",
       "</table>\n",
       "</div>"
      ],
      "text/plain": [
       "     zip   latitude  longitude    city state     county           name\n",
       "0   3299  43.524872 -71.445841  Tilton    NH    Belknap  New Hampshire\n",
       "1   7001  40.582845 -74.275240  Avenel    NJ  Middlesex     New Jersey\n",
       "3   8899  40.520254 -74.420545  Edison    NJ  Middlesex     New Jersey\n",
       "5  13440  43.208860 -75.383365    Rome    NY     Oneida       New York\n",
       "6  31546  31.531938 -81.804924   Jesup    GA      Wayne        Georgia"
      ]
     },
     "execution_count": 90,
     "metadata": {},
     "output_type": "execute_result"
    }
   ],
   "source": [
    "zip_num= pd.read_csv('zip_codes_states.csv').dropna()\n",
    "zip_num.head()"
   ]
  },
  {
   "cell_type": "code",
   "execution_count": 91,
   "metadata": {
    "collapsed": false
   },
   "outputs": [],
   "source": [
    "def date_con(a):\n",
    "    temp = datetime.datetime.fromtimestamp(a).strftime('%Y-%m-%d %H:%M:%S:%mmm')\n",
    "    return temp"
   ]
  },
  {
   "cell_type": "code",
   "execution_count": 92,
   "metadata": {
    "collapsed": false
   },
   "outputs": [],
   "source": [
    "#tras[['device_id']].groupby(['device_id'],as_index=False,axis=0)\n",
    "\n",
    "#tras['device_id'].cou"
   ]
  },
  {
   "cell_type": "code",
   "execution_count": 93,
   "metadata": {
    "collapsed": false
   },
   "outputs": [],
   "source": [
    "acc_ant=pd.value_counts(tras['account_id'],sort=True,ascending=True)"
   ]
  },
  {
   "cell_type": "code",
   "execution_count": 94,
   "metadata": {
    "collapsed": false
   },
   "outputs": [
    {
     "data": {
      "text/plain": [
       "2866     8\n",
       "4875     8\n",
       "2976     9\n",
       "4487     9\n",
       "3993     9\n",
       "3628    10\n",
       "3529    10\n",
       "2139    10\n",
       "3057    10\n",
       "1304    11\n",
       "Name: account_id, dtype: int64"
      ]
     },
     "execution_count": 94,
     "metadata": {},
     "output_type": "execute_result"
    }
   ],
   "source": [
    "acc_ant.head(10)"
   ]
  },
  {
   "cell_type": "code",
   "execution_count": 95,
   "metadata": {
    "collapsed": false
   },
   "outputs": [
    {
     "data": {
      "text/plain": [
       "<seaborn.axisgrid.FacetGrid at 0x11591f240>"
      ]
     },
     "execution_count": 95,
     "metadata": {},
     "output_type": "execute_result"
    },
    {
     "data": {
      "image/png": "[encoded data removed]",
      "text/plain": [
       "<matplotlib.figure.Figure at 0x11591f278>"
      ]
     },
     "metadata": {},
     "output_type": "display_data"
    }
   ],
   "source": [
    "sns.set_style('whitegrid')\n",
    "sns.lmplot('transaction_value','account_id',data=tras,\n",
    "           palette='coolwarm',size=6,aspect=1,fit_reg=False)"
   ]
  },
  {
   "cell_type": "code",
   "execution_count": 96,
   "metadata": {
    "collapsed": false
   },
   "outputs": [
    {
     "data": {
      "text/plain": [
       "<seaborn.axisgrid.FacetGrid at 0x115929198>"
      ]
     },
     "execution_count": 96,
     "metadata": {},
     "output_type": "execute_result"
    },
    {
     "data": {
      "image/png": "[encoded data removed]",
      "text/plain": [
       "<matplotlib.figure.Figure at 0x11592f550>"
      ]
     },
     "metadata": {},
     "output_type": "display_data"
    }
   ],
   "source": [
    "sns.set_style('whitegrid')\n",
    "sns.lmplot('transaction_value','account_id',data=tras,\n",
    "           palette='coolwarm',size=6,aspect=1,fit_reg=False)"
   ]
  },
  {
   "cell_type": "code",
   "execution_count": 97,
   "metadata": {
    "collapsed": false
   },
   "outputs": [],
   "source": [
    "tran_pos=pd.merge(tras, pos1, how='right', left_on='device_id', right_on='id')\n",
    "#pd.merge(left, right, how='left', on=['key1', 'key2'])\n",
    "\n"
   ]
  },
  {
   "cell_type": "code",
   "execution_count": 100,
   "metadata": {
    "collapsed": false
   },
   "outputs": [
    {
     "data": {
      "text/html": [
       "<div>\n",
       "<table border=\"1\" class=\"dataframe\">\n",
       "  <thead>\n",
       "    <tr style=\"text-align: right;\">\n",
       "      <th></th>\n",
       "      <th>id</th>\n",
       "      <th>location</th>\n",
       "      <th>merchant_name</th>\n",
       "      <th>country1</th>\n",
       "      <th>name1</th>\n",
       "    </tr>\n",
       "  </thead>\n",
       "  <tbody>\n",
       "  </tbody>\n",
       "</table>\n",
       "</div>"
      ],
      "text/plain": [
       "Empty DataFrame\n",
       "Columns: [id, location, merchant_name, country1, name1]\n",
       "Index: []"
      ]
     },
     "execution_count": 100,
     "metadata": {},
     "output_type": "execute_result"
    }
   ],
   "source": [
    "pos1[pos1['id']==674].sort_values(['id','location'],axis=0)"
   ]
  },
  {
   "cell_type": "code",
   "execution_count": 101,
   "metadata": {
    "collapsed": false
   },
   "outputs": [
    {
     "data": {
      "text/html": [
       "<div>\n",
       "<table border=\"1\" class=\"dataframe\">\n",
       "  <thead>\n",
       "    <tr style=\"text-align: right;\">\n",
       "      <th></th>\n",
       "      <th>id_x</th>\n",
       "      <th>device_id</th>\n",
       "      <th>transaction_value</th>\n",
       "      <th>account_id</th>\n",
       "      <th>ts_millis</th>\n",
       "      <th>id_y</th>\n",
       "      <th>location</th>\n",
       "      <th>merchant_name</th>\n",
       "      <th>country1</th>\n",
       "      <th>name1</th>\n",
       "    </tr>\n",
       "  </thead>\n",
       "  <tbody>\n",
       "    <tr>\n",
       "      <th>0</th>\n",
       "      <td>6.198484e+18</td>\n",
       "      <td>3073.0</td>\n",
       "      <td>25.97</td>\n",
       "      <td>3784.0</td>\n",
       "      <td>1.464898e+12</td>\n",
       "      <td>3073</td>\n",
       "      <td>Iowa County, Wisconsin</td>\n",
       "      <td>Merchant 3072</td>\n",
       "      <td>Iowa</td>\n",
       "      <td>Wisconsin</td>\n",
       "    </tr>\n",
       "    <tr>\n",
       "      <th>1</th>\n",
       "      <td>5.034508e+18</td>\n",
       "      <td>3073.0</td>\n",
       "      <td>124.11</td>\n",
       "      <td>3073.0</td>\n",
       "      <td>1.464898e+12</td>\n",
       "      <td>3073</td>\n",
       "      <td>Iowa County, Wisconsin</td>\n",
       "      <td>Merchant 3072</td>\n",
       "      <td>Iowa</td>\n",
       "      <td>Wisconsin</td>\n",
       "    </tr>\n",
       "    <tr>\n",
       "      <th>2</th>\n",
       "      <td>9.112560e+18</td>\n",
       "      <td>3073.0</td>\n",
       "      <td>140.97</td>\n",
       "      <td>2593.0</td>\n",
       "      <td>1.464898e+12</td>\n",
       "      <td>3073</td>\n",
       "      <td>Iowa County, Wisconsin</td>\n",
       "      <td>Merchant 3072</td>\n",
       "      <td>Iowa</td>\n",
       "      <td>Wisconsin</td>\n",
       "    </tr>\n",
       "    <tr>\n",
       "      <th>3</th>\n",
       "      <td>6.213282e+18</td>\n",
       "      <td>3073.0</td>\n",
       "      <td>110.61</td>\n",
       "      <td>3073.0</td>\n",
       "      <td>1.464898e+12</td>\n",
       "      <td>3073</td>\n",
       "      <td>Iowa County, Wisconsin</td>\n",
       "      <td>Merchant 3072</td>\n",
       "      <td>Iowa</td>\n",
       "      <td>Wisconsin</td>\n",
       "    </tr>\n",
       "    <tr>\n",
       "      <th>4</th>\n",
       "      <td>9.083245e+18</td>\n",
       "      <td>3073.0</td>\n",
       "      <td>113.91</td>\n",
       "      <td>3073.0</td>\n",
       "      <td>1.464898e+12</td>\n",
       "      <td>3073</td>\n",
       "      <td>Iowa County, Wisconsin</td>\n",
       "      <td>Merchant 3072</td>\n",
       "      <td>Iowa</td>\n",
       "      <td>Wisconsin</td>\n",
       "    </tr>\n",
       "  </tbody>\n",
       "</table>\n",
       "</div>"
      ],
      "text/plain": [
       "           id_x  device_id  transaction_value  account_id     ts_millis  id_y  \\\n",
       "0  6.198484e+18     3073.0              25.97      3784.0  1.464898e+12  3073   \n",
       "1  5.034508e+18     3073.0             124.11      3073.0  1.464898e+12  3073   \n",
       "2  9.112560e+18     3073.0             140.97      2593.0  1.464898e+12  3073   \n",
       "3  6.213282e+18     3073.0             110.61      3073.0  1.464898e+12  3073   \n",
       "4  9.083245e+18     3073.0             113.91      3073.0  1.464898e+12  3073   \n",
       "\n",
       "                 location  merchant_name country1       name1  \n",
       "0  Iowa County, Wisconsin  Merchant 3072    Iowa    Wisconsin  \n",
       "1  Iowa County, Wisconsin  Merchant 3072    Iowa    Wisconsin  \n",
       "2  Iowa County, Wisconsin  Merchant 3072    Iowa    Wisconsin  \n",
       "3  Iowa County, Wisconsin  Merchant 3072    Iowa    Wisconsin  \n",
       "4  Iowa County, Wisconsin  Merchant 3072    Iowa    Wisconsin  "
      ]
     },
     "execution_count": 101,
     "metadata": {},
     "output_type": "execute_result"
    }
   ],
   "source": [
    "tran_pos.head()"
   ]
  },
  {
   "cell_type": "code",
   "execution_count": 102,
   "metadata": {
    "collapsed": false
   },
   "outputs": [
    {
     "data": {
      "text/plain": [
       "<seaborn.axisgrid.FacetGrid at 0x1156f4cf8>"
      ]
     },
     "execution_count": 102,
     "metadata": {},
     "output_type": "execute_result"
    },
    {
     "data": {
      "image/png": "[encoded data removed]",
      "text/plain": [
       "<matplotlib.figure.Figure at 0x1156f4dd8>"
      ]
     },
     "metadata": {},
     "output_type": "display_data"
    }
   ],
   "source": [
    "sns.set_style('whitegrid')\n",
    "sns.lmplot('account_id','id_y',data=tran_pos,\n",
    "           palette='coolwarm',size=6,aspect=1,fit_reg=False)"
   ]
  },
  {
   "cell_type": "code",
   "execution_count": 103,
   "metadata": {
    "collapsed": false
   },
   "outputs": [
    {
     "data": {
      "text/plain": [
       "<seaborn.axisgrid.FacetGrid at 0x11af172e8>"
      ]
     },
     "execution_count": 103,
     "metadata": {},
     "output_type": "execute_result"
    },
    {
     "data": {
      "image/png": "[encoded data removed]",
      "text/plain": [
       "<matplotlib.figure.Figure at 0x11af14860>"
      ]
     },
     "metadata": {},
     "output_type": "display_data"
    }
   ],
   "source": [
    "sns.set_style('whitegrid')\n",
    "sns.lmplot('id_x','id_y',data=tran_pos,\n",
    "           palette='coolwarm',size=6,aspect=1,fit_reg=False)"
   ]
  },
  {
   "cell_type": "code",
   "execution_count": 104,
   "metadata": {
    "collapsed": false
   },
   "outputs": [
    {
     "data": {
      "text/html": [
       "<div>\n",
       "<table border=\"1\" class=\"dataframe\">\n",
       "  <thead>\n",
       "    <tr style=\"text-align: right;\">\n",
       "      <th></th>\n",
       "      <th>zip</th>\n",
       "      <th>latitude</th>\n",
       "      <th>longitude</th>\n",
       "      <th>city</th>\n",
       "      <th>state</th>\n",
       "      <th>county</th>\n",
       "      <th>name</th>\n",
       "    </tr>\n",
       "  </thead>\n",
       "  <tbody>\n",
       "    <tr>\n",
       "      <th>0</th>\n",
       "      <td>3299</td>\n",
       "      <td>43.524872</td>\n",
       "      <td>-71.445841</td>\n",
       "      <td>Tilton</td>\n",
       "      <td>NH</td>\n",
       "      <td>Belknap</td>\n",
       "      <td>New Hampshire</td>\n",
       "    </tr>\n",
       "    <tr>\n",
       "      <th>1</th>\n",
       "      <td>7001</td>\n",
       "      <td>40.582845</td>\n",
       "      <td>-74.275240</td>\n",
       "      <td>Avenel</td>\n",
       "      <td>NJ</td>\n",
       "      <td>Middlesex</td>\n",
       "      <td>New Jersey</td>\n",
       "    </tr>\n",
       "    <tr>\n",
       "      <th>3</th>\n",
       "      <td>8899</td>\n",
       "      <td>40.520254</td>\n",
       "      <td>-74.420545</td>\n",
       "      <td>Edison</td>\n",
       "      <td>NJ</td>\n",
       "      <td>Middlesex</td>\n",
       "      <td>New Jersey</td>\n",
       "    </tr>\n",
       "    <tr>\n",
       "      <th>5</th>\n",
       "      <td>13440</td>\n",
       "      <td>43.208860</td>\n",
       "      <td>-75.383365</td>\n",
       "      <td>Rome</td>\n",
       "      <td>NY</td>\n",
       "      <td>Oneida</td>\n",
       "      <td>New York</td>\n",
       "    </tr>\n",
       "    <tr>\n",
       "      <th>6</th>\n",
       "      <td>31546</td>\n",
       "      <td>31.531938</td>\n",
       "      <td>-81.804924</td>\n",
       "      <td>Jesup</td>\n",
       "      <td>GA</td>\n",
       "      <td>Wayne</td>\n",
       "      <td>Georgia</td>\n",
       "    </tr>\n",
       "  </tbody>\n",
       "</table>\n",
       "</div>"
      ],
      "text/plain": [
       "     zip   latitude  longitude    city state     county           name\n",
       "0   3299  43.524872 -71.445841  Tilton    NH    Belknap  New Hampshire\n",
       "1   7001  40.582845 -74.275240  Avenel    NJ  Middlesex     New Jersey\n",
       "3   8899  40.520254 -74.420545  Edison    NJ  Middlesex     New Jersey\n",
       "5  13440  43.208860 -75.383365    Rome    NY     Oneida       New York\n",
       "6  31546  31.531938 -81.804924   Jesup    GA      Wayne        Georgia"
      ]
     },
     "execution_count": 104,
     "metadata": {},
     "output_type": "execute_result"
    }
   ],
   "source": [
    "zip_num.head()"
   ]
  },
  {
   "cell_type": "code",
   "execution_count": 105,
   "metadata": {
    "collapsed": false
   },
   "outputs": [
    {
     "data": {
      "text/plain": [
       "Index(['id_x', 'device_id', 'transaction_value', 'account_id', 'ts_millis',\n",
       "       'id_y', 'location', 'merchant_name', 'country1', 'name1'],\n",
       "      dtype='object')"
      ]
     },
     "execution_count": 105,
     "metadata": {},
     "output_type": "execute_result"
    }
   ],
   "source": [
    "tran_pos.columns"
   ]
  },
  {
   "cell_type": "code",
   "execution_count": 106,
   "metadata": {
    "collapsed": false
   },
   "outputs": [
    {
     "data": {
      "text/html": [
       "<div>\n",
       "<table border=\"1\" class=\"dataframe\">\n",
       "  <thead>\n",
       "    <tr style=\"text-align: right;\">\n",
       "      <th></th>\n",
       "      <th>id_x</th>\n",
       "      <th>device_id</th>\n",
       "      <th>transaction_value</th>\n",
       "      <th>account_id</th>\n",
       "      <th>ts_millis</th>\n",
       "      <th>id_y</th>\n",
       "      <th>location</th>\n",
       "      <th>merchant_name</th>\n",
       "      <th>country1</th>\n",
       "      <th>name1</th>\n",
       "    </tr>\n",
       "  </thead>\n",
       "  <tbody>\n",
       "    <tr>\n",
       "      <th>0</th>\n",
       "      <td>6.198484e+18</td>\n",
       "      <td>3073.0</td>\n",
       "      <td>25.97</td>\n",
       "      <td>3784.0</td>\n",
       "      <td>1.464898e+12</td>\n",
       "      <td>3073</td>\n",
       "      <td>Iowa County, Wisconsin</td>\n",
       "      <td>Merchant 3072</td>\n",
       "      <td>Iowa</td>\n",
       "      <td>Wisconsin</td>\n",
       "    </tr>\n",
       "    <tr>\n",
       "      <th>1</th>\n",
       "      <td>5.034508e+18</td>\n",
       "      <td>3073.0</td>\n",
       "      <td>124.11</td>\n",
       "      <td>3073.0</td>\n",
       "      <td>1.464898e+12</td>\n",
       "      <td>3073</td>\n",
       "      <td>Iowa County, Wisconsin</td>\n",
       "      <td>Merchant 3072</td>\n",
       "      <td>Iowa</td>\n",
       "      <td>Wisconsin</td>\n",
       "    </tr>\n",
       "    <tr>\n",
       "      <th>2</th>\n",
       "      <td>9.112560e+18</td>\n",
       "      <td>3073.0</td>\n",
       "      <td>140.97</td>\n",
       "      <td>2593.0</td>\n",
       "      <td>1.464898e+12</td>\n",
       "      <td>3073</td>\n",
       "      <td>Iowa County, Wisconsin</td>\n",
       "      <td>Merchant 3072</td>\n",
       "      <td>Iowa</td>\n",
       "      <td>Wisconsin</td>\n",
       "    </tr>\n",
       "    <tr>\n",
       "      <th>3</th>\n",
       "      <td>6.213282e+18</td>\n",
       "      <td>3073.0</td>\n",
       "      <td>110.61</td>\n",
       "      <td>3073.0</td>\n",
       "      <td>1.464898e+12</td>\n",
       "      <td>3073</td>\n",
       "      <td>Iowa County, Wisconsin</td>\n",
       "      <td>Merchant 3072</td>\n",
       "      <td>Iowa</td>\n",
       "      <td>Wisconsin</td>\n",
       "    </tr>\n",
       "    <tr>\n",
       "      <th>4</th>\n",
       "      <td>9.083245e+18</td>\n",
       "      <td>3073.0</td>\n",
       "      <td>113.91</td>\n",
       "      <td>3073.0</td>\n",
       "      <td>1.464898e+12</td>\n",
       "      <td>3073</td>\n",
       "      <td>Iowa County, Wisconsin</td>\n",
       "      <td>Merchant 3072</td>\n",
       "      <td>Iowa</td>\n",
       "      <td>Wisconsin</td>\n",
       "    </tr>\n",
       "  </tbody>\n",
       "</table>\n",
       "</div>"
      ],
      "text/plain": [
       "           id_x  device_id  transaction_value  account_id     ts_millis  id_y  \\\n",
       "0  6.198484e+18     3073.0              25.97      3784.0  1.464898e+12  3073   \n",
       "1  5.034508e+18     3073.0             124.11      3073.0  1.464898e+12  3073   \n",
       "2  9.112560e+18     3073.0             140.97      2593.0  1.464898e+12  3073   \n",
       "3  6.213282e+18     3073.0             110.61      3073.0  1.464898e+12  3073   \n",
       "4  9.083245e+18     3073.0             113.91      3073.0  1.464898e+12  3073   \n",
       "\n",
       "                 location  merchant_name country1       name1  \n",
       "0  Iowa County, Wisconsin  Merchant 3072    Iowa    Wisconsin  \n",
       "1  Iowa County, Wisconsin  Merchant 3072    Iowa    Wisconsin  \n",
       "2  Iowa County, Wisconsin  Merchant 3072    Iowa    Wisconsin  \n",
       "3  Iowa County, Wisconsin  Merchant 3072    Iowa    Wisconsin  \n",
       "4  Iowa County, Wisconsin  Merchant 3072    Iowa    Wisconsin  "
      ]
     },
     "execution_count": 106,
     "metadata": {},
     "output_type": "execute_result"
    }
   ],
   "source": [
    "tran_pos.head()"
   ]
  },
  {
   "cell_type": "code",
   "execution_count": 107,
   "metadata": {
    "collapsed": false
   },
   "outputs": [],
   "source": [
    "#tran_pos_zip=pd.merge(tran_pos, zip_num, how='inner', left_on= ['country1', 'name1'], right_on=  ['county', 'name'])\n",
    "tran_pos_zip=pd.merge(tran_pos, zip_num, how='inner', left_on= ['country1','name1'], right_on=  ['county','name'])\n",
    "\n",
    "\n"
   ]
  },
  {
   "cell_type": "code",
   "execution_count": 108,
   "metadata": {
    "collapsed": false
   },
   "outputs": [
    {
     "data": {
      "text/html": [
       "<div>\n",
       "<table border=\"1\" class=\"dataframe\">\n",
       "  <thead>\n",
       "    <tr style=\"text-align: right;\">\n",
       "      <th></th>\n",
       "      <th>id_x</th>\n",
       "      <th>device_id</th>\n",
       "      <th>transaction_value</th>\n",
       "      <th>account_id</th>\n",
       "      <th>ts_millis</th>\n",
       "      <th>id_y</th>\n",
       "      <th>location</th>\n",
       "      <th>merchant_name</th>\n",
       "      <th>country1</th>\n",
       "      <th>name1</th>\n",
       "      <th>zip</th>\n",
       "      <th>latitude</th>\n",
       "      <th>longitude</th>\n",
       "      <th>city</th>\n",
       "      <th>state</th>\n",
       "      <th>county</th>\n",
       "      <th>name</th>\n",
       "    </tr>\n",
       "  </thead>\n",
       "  <tbody>\n",
       "  </tbody>\n",
       "</table>\n",
       "</div>"
      ],
      "text/plain": [
       "Empty DataFrame\n",
       "Columns: [id_x, device_id, transaction_value, account_id, ts_millis, id_y, location, merchant_name, country1, name1, zip, latitude, longitude, city, state, county, name]\n",
       "Index: []"
      ]
     },
     "execution_count": 108,
     "metadata": {},
     "output_type": "execute_result"
    }
   ],
   "source": [
    "tran_pos_zip.head(10)"
   ]
  },
  {
   "cell_type": "code",
   "execution_count": 109,
   "metadata": {
    "collapsed": false
   },
   "outputs": [
    {
     "data": {
      "text/html": [
       "<div>\n",
       "<table border=\"1\" class=\"dataframe\">\n",
       "  <thead>\n",
       "    <tr style=\"text-align: right;\">\n",
       "      <th></th>\n",
       "      <th>id_x</th>\n",
       "      <th>device_id</th>\n",
       "      <th>transaction_value</th>\n",
       "      <th>account_id</th>\n",
       "      <th>ts_millis</th>\n",
       "      <th>id_y</th>\n",
       "      <th>location</th>\n",
       "      <th>merchant_name</th>\n",
       "      <th>country1</th>\n",
       "      <th>name1</th>\n",
       "      <th>zip</th>\n",
       "      <th>latitude</th>\n",
       "      <th>longitude</th>\n",
       "      <th>city</th>\n",
       "      <th>state</th>\n",
       "      <th>county</th>\n",
       "      <th>name</th>\n",
       "    </tr>\n",
       "  </thead>\n",
       "  <tbody>\n",
       "  </tbody>\n",
       "</table>\n",
       "</div>"
      ],
      "text/plain": [
       "Empty DataFrame\n",
       "Columns: [id_x, device_id, transaction_value, account_id, ts_millis, id_y, location, merchant_name, country1, name1, zip, latitude, longitude, city, state, county, name]\n",
       "Index: []"
      ]
     },
     "execution_count": 109,
     "metadata": {},
     "output_type": "execute_result"
    }
   ],
   "source": [
    "tran_pos_zip.head()"
   ]
  },
  {
   "cell_type": "code",
   "execution_count": 110,
   "metadata": {
    "collapsed": true
   },
   "outputs": [],
   "source": [
    "tran_pos_zip=pd.merge(tran_pos, zip_num, how='inner', left_on= ['device_id'], right_on=  ['zip'])\n",
    "\n"
   ]
  },
  {
   "cell_type": "code",
   "execution_count": 111,
   "metadata": {
    "collapsed": false
   },
   "outputs": [
    {
     "data": {
      "text/html": [
       "<div>\n",
       "<table border=\"1\" class=\"dataframe\">\n",
       "  <thead>\n",
       "    <tr style=\"text-align: right;\">\n",
       "      <th></th>\n",
       "      <th>id_x</th>\n",
       "      <th>device_id</th>\n",
       "      <th>transaction_value</th>\n",
       "      <th>account_id</th>\n",
       "      <th>ts_millis</th>\n",
       "      <th>id_y</th>\n",
       "      <th>location</th>\n",
       "      <th>merchant_name</th>\n",
       "      <th>country1</th>\n",
       "      <th>name1</th>\n",
       "      <th>zip</th>\n",
       "      <th>latitude</th>\n",
       "      <th>longitude</th>\n",
       "      <th>city</th>\n",
       "      <th>state</th>\n",
       "      <th>county</th>\n",
       "      <th>name</th>\n",
       "    </tr>\n",
       "  </thead>\n",
       "  <tbody>\n",
       "    <tr>\n",
       "      <th>0</th>\n",
       "      <td>6.198484e+18</td>\n",
       "      <td>3073.0</td>\n",
       "      <td>25.97</td>\n",
       "      <td>3784.0</td>\n",
       "      <td>1.464898e+12</td>\n",
       "      <td>3073</td>\n",
       "      <td>Iowa County, Wisconsin</td>\n",
       "      <td>Merchant 3072</td>\n",
       "      <td>Iowa</td>\n",
       "      <td>Wisconsin</td>\n",
       "      <td>3073</td>\n",
       "      <td>43.005895</td>\n",
       "      <td>-71.013202</td>\n",
       "      <td>North Salem</td>\n",
       "      <td>NH</td>\n",
       "      <td>Rockingham</td>\n",
       "      <td>New Hampshire</td>\n",
       "    </tr>\n",
       "    <tr>\n",
       "      <th>1</th>\n",
       "      <td>5.034508e+18</td>\n",
       "      <td>3073.0</td>\n",
       "      <td>124.11</td>\n",
       "      <td>3073.0</td>\n",
       "      <td>1.464898e+12</td>\n",
       "      <td>3073</td>\n",
       "      <td>Iowa County, Wisconsin</td>\n",
       "      <td>Merchant 3072</td>\n",
       "      <td>Iowa</td>\n",
       "      <td>Wisconsin</td>\n",
       "      <td>3073</td>\n",
       "      <td>43.005895</td>\n",
       "      <td>-71.013202</td>\n",
       "      <td>North Salem</td>\n",
       "      <td>NH</td>\n",
       "      <td>Rockingham</td>\n",
       "      <td>New Hampshire</td>\n",
       "    </tr>\n",
       "    <tr>\n",
       "      <th>2</th>\n",
       "      <td>9.112560e+18</td>\n",
       "      <td>3073.0</td>\n",
       "      <td>140.97</td>\n",
       "      <td>2593.0</td>\n",
       "      <td>1.464898e+12</td>\n",
       "      <td>3073</td>\n",
       "      <td>Iowa County, Wisconsin</td>\n",
       "      <td>Merchant 3072</td>\n",
       "      <td>Iowa</td>\n",
       "      <td>Wisconsin</td>\n",
       "      <td>3073</td>\n",
       "      <td>43.005895</td>\n",
       "      <td>-71.013202</td>\n",
       "      <td>North Salem</td>\n",
       "      <td>NH</td>\n",
       "      <td>Rockingham</td>\n",
       "      <td>New Hampshire</td>\n",
       "    </tr>\n",
       "    <tr>\n",
       "      <th>3</th>\n",
       "      <td>6.213282e+18</td>\n",
       "      <td>3073.0</td>\n",
       "      <td>110.61</td>\n",
       "      <td>3073.0</td>\n",
       "      <td>1.464898e+12</td>\n",
       "      <td>3073</td>\n",
       "      <td>Iowa County, Wisconsin</td>\n",
       "      <td>Merchant 3072</td>\n",
       "      <td>Iowa</td>\n",
       "      <td>Wisconsin</td>\n",
       "      <td>3073</td>\n",
       "      <td>43.005895</td>\n",
       "      <td>-71.013202</td>\n",
       "      <td>North Salem</td>\n",
       "      <td>NH</td>\n",
       "      <td>Rockingham</td>\n",
       "      <td>New Hampshire</td>\n",
       "    </tr>\n",
       "    <tr>\n",
       "      <th>4</th>\n",
       "      <td>9.083245e+18</td>\n",
       "      <td>3073.0</td>\n",
       "      <td>113.91</td>\n",
       "      <td>3073.0</td>\n",
       "      <td>1.464898e+12</td>\n",
       "      <td>3073</td>\n",
       "      <td>Iowa County, Wisconsin</td>\n",
       "      <td>Merchant 3072</td>\n",
       "      <td>Iowa</td>\n",
       "      <td>Wisconsin</td>\n",
       "      <td>3073</td>\n",
       "      <td>43.005895</td>\n",
       "      <td>-71.013202</td>\n",
       "      <td>North Salem</td>\n",
       "      <td>NH</td>\n",
       "      <td>Rockingham</td>\n",
       "      <td>New Hampshire</td>\n",
       "    </tr>\n",
       "  </tbody>\n",
       "</table>\n",
       "</div>"
      ],
      "text/plain": [
       "           id_x  device_id  transaction_value  account_id     ts_millis  id_y  \\\n",
       "0  6.198484e+18     3073.0              25.97      3784.0  1.464898e+12  3073   \n",
       "1  5.034508e+18     3073.0             124.11      3073.0  1.464898e+12  3073   \n",
       "2  9.112560e+18     3073.0             140.97      2593.0  1.464898e+12  3073   \n",
       "3  6.213282e+18     3073.0             110.61      3073.0  1.464898e+12  3073   \n",
       "4  9.083245e+18     3073.0             113.91      3073.0  1.464898e+12  3073   \n",
       "\n",
       "                 location  merchant_name country1       name1   zip  \\\n",
       "0  Iowa County, Wisconsin  Merchant 3072    Iowa    Wisconsin  3073   \n",
       "1  Iowa County, Wisconsin  Merchant 3072    Iowa    Wisconsin  3073   \n",
       "2  Iowa County, Wisconsin  Merchant 3072    Iowa    Wisconsin  3073   \n",
       "3  Iowa County, Wisconsin  Merchant 3072    Iowa    Wisconsin  3073   \n",
       "4  Iowa County, Wisconsin  Merchant 3072    Iowa    Wisconsin  3073   \n",
       "\n",
       "    latitude  longitude         city state      county           name  \n",
       "0  43.005895 -71.013202  North Salem    NH  Rockingham  New Hampshire  \n",
       "1  43.005895 -71.013202  North Salem    NH  Rockingham  New Hampshire  \n",
       "2  43.005895 -71.013202  North Salem    NH  Rockingham  New Hampshire  \n",
       "3  43.005895 -71.013202  North Salem    NH  Rockingham  New Hampshire  \n",
       "4  43.005895 -71.013202  North Salem    NH  Rockingham  New Hampshire  "
      ]
     },
     "execution_count": 111,
     "metadata": {},
     "output_type": "execute_result"
    }
   ],
   "source": [
    "tran_pos_zip.head()"
   ]
  },
  {
   "cell_type": "code",
   "execution_count": 112,
   "metadata": {
    "collapsed": false
   },
   "outputs": [
    {
     "data": {
      "text/html": [
       "<div>\n",
       "<table border=\"1\" class=\"dataframe\">\n",
       "  <thead>\n",
       "    <tr style=\"text-align: right;\">\n",
       "      <th></th>\n",
       "      <th>zip</th>\n",
       "      <th>account_id</th>\n",
       "    </tr>\n",
       "  </thead>\n",
       "  <tbody>\n",
       "    <tr>\n",
       "      <th>0</th>\n",
       "      <td>3044</td>\n",
       "      <td>29</td>\n",
       "    </tr>\n",
       "  </tbody>\n",
       "</table>\n",
       "</div>"
      ],
      "text/plain": [
       "    zip  account_id\n",
       "0  3044          29"
      ]
     },
     "execution_count": 112,
     "metadata": {},
     "output_type": "execute_result"
    }
   ],
   "source": [
    "tran_pos_zip[['account_id', 'zip']].groupby(['zip'],as_index=False,axis=0,sort=True).count().head(1)\n"
   ]
  },
  {
   "cell_type": "code",
   "execution_count": 113,
   "metadata": {
    "collapsed": false
   },
   "outputs": [
    {
     "data": {
      "text/plain": [
       "<seaborn.axisgrid.FacetGrid at 0x11aeed908>"
      ]
     },
     "execution_count": 113,
     "metadata": {},
     "output_type": "execute_result"
    },
    {
     "data": {
      "image/png": "[encoded data removed]",
      "text/plain": [
       "<matplotlib.figure.Figure at 0x115ad3d30>"
      ]
     },
     "metadata": {},
     "output_type": "display_data"
    }
   ],
   "source": [
    "sns.set_style('whitegrid')\n",
    "sns.lmplot('account_id','zip',data=tran_pos_zip,\n",
    "           palette='coolwarm',size=6,aspect=1,fit_reg=False)"
   ]
  },
  {
   "cell_type": "code",
   "execution_count": 118,
   "metadata": {
    "collapsed": false
   },
   "outputs": [],
   "source": [
    "\n",
    "analysis_data=tran_pos_zip[['id_x','device_id','transaction_value','account_id','ts_millis','latitude','longitude','zip']]\n",
    "#df['device_id,transaction_value,account_id,ts_millis,zip','latitude','longitude']=tran_pos_zip['device_id,transaction_value,account_id,ts_millis,zip','latitude','longitude']"
   ]
  },
  {
   "cell_type": "code",
   "execution_count": 119,
   "metadata": {
    "collapsed": false
   },
   "outputs": [
    {
     "data": {
      "text/html": [
       "<div>\n",
       "<table border=\"1\" class=\"dataframe\">\n",
       "  <thead>\n",
       "    <tr style=\"text-align: right;\">\n",
       "      <th></th>\n",
       "      <th>id_x</th>\n",
       "      <th>device_id</th>\n",
       "      <th>transaction_value</th>\n",
       "      <th>account_id</th>\n",
       "      <th>ts_millis</th>\n",
       "      <th>latitude</th>\n",
       "      <th>longitude</th>\n",
       "      <th>zip</th>\n",
       "    </tr>\n",
       "  </thead>\n",
       "  <tbody>\n",
       "    <tr>\n",
       "      <th>0</th>\n",
       "      <td>6.198484e+18</td>\n",
       "      <td>3073.0</td>\n",
       "      <td>25.97</td>\n",
       "      <td>3784.0</td>\n",
       "      <td>1.464898e+12</td>\n",
       "      <td>43.005895</td>\n",
       "      <td>-71.013202</td>\n",
       "      <td>3073</td>\n",
       "    </tr>\n",
       "    <tr>\n",
       "      <th>1</th>\n",
       "      <td>5.034508e+18</td>\n",
       "      <td>3073.0</td>\n",
       "      <td>124.11</td>\n",
       "      <td>3073.0</td>\n",
       "      <td>1.464898e+12</td>\n",
       "      <td>43.005895</td>\n",
       "      <td>-71.013202</td>\n",
       "      <td>3073</td>\n",
       "    </tr>\n",
       "    <tr>\n",
       "      <th>2</th>\n",
       "      <td>9.112560e+18</td>\n",
       "      <td>3073.0</td>\n",
       "      <td>140.97</td>\n",
       "      <td>2593.0</td>\n",
       "      <td>1.464898e+12</td>\n",
       "      <td>43.005895</td>\n",
       "      <td>-71.013202</td>\n",
       "      <td>3073</td>\n",
       "    </tr>\n",
       "    <tr>\n",
       "      <th>3</th>\n",
       "      <td>6.213282e+18</td>\n",
       "      <td>3073.0</td>\n",
       "      <td>110.61</td>\n",
       "      <td>3073.0</td>\n",
       "      <td>1.464898e+12</td>\n",
       "      <td>43.005895</td>\n",
       "      <td>-71.013202</td>\n",
       "      <td>3073</td>\n",
       "    </tr>\n",
       "    <tr>\n",
       "      <th>4</th>\n",
       "      <td>9.083245e+18</td>\n",
       "      <td>3073.0</td>\n",
       "      <td>113.91</td>\n",
       "      <td>3073.0</td>\n",
       "      <td>1.464898e+12</td>\n",
       "      <td>43.005895</td>\n",
       "      <td>-71.013202</td>\n",
       "      <td>3073</td>\n",
       "    </tr>\n",
       "  </tbody>\n",
       "</table>\n",
       "</div>"
      ],
      "text/plain": [
       "           id_x  device_id  transaction_value  account_id     ts_millis  \\\n",
       "0  6.198484e+18     3073.0              25.97      3784.0  1.464898e+12   \n",
       "1  5.034508e+18     3073.0             124.11      3073.0  1.464898e+12   \n",
       "2  9.112560e+18     3073.0             140.97      2593.0  1.464898e+12   \n",
       "3  6.213282e+18     3073.0             110.61      3073.0  1.464898e+12   \n",
       "4  9.083245e+18     3073.0             113.91      3073.0  1.464898e+12   \n",
       "\n",
       "    latitude  longitude   zip  \n",
       "0  43.005895 -71.013202  3073  \n",
       "1  43.005895 -71.013202  3073  \n",
       "2  43.005895 -71.013202  3073  \n",
       "3  43.005895 -71.013202  3073  \n",
       "4  43.005895 -71.013202  3073  "
      ]
     },
     "execution_count": 119,
     "metadata": {},
     "output_type": "execute_result"
    }
   ],
   "source": [
    "analysis_data.head()"
   ]
  },
  {
   "cell_type": "code",
   "execution_count": 120,
   "metadata": {
    "collapsed": true
   },
   "outputs": [],
   "source": [
    "account_cnt=analysis_data['account_id'].unique()"
   ]
  },
  {
   "cell_type": "code",
   "execution_count": 121,
   "metadata": {
    "collapsed": false
   },
   "outputs": [
    {
     "data": {
      "text/html": [
       "<div>\n",
       "<table border=\"1\" class=\"dataframe\">\n",
       "  <thead>\n",
       "    <tr style=\"text-align: right;\">\n",
       "      <th></th>\n",
       "      <th>id_x</th>\n",
       "      <th>device_id</th>\n",
       "      <th>transaction_value</th>\n",
       "      <th>account_id</th>\n",
       "      <th>ts_millis</th>\n",
       "      <th>latitude</th>\n",
       "      <th>longitude</th>\n",
       "      <th>zip</th>\n",
       "    </tr>\n",
       "  </thead>\n",
       "  <tbody>\n",
       "    <tr>\n",
       "      <th>979</th>\n",
       "      <td>6.218017e+18</td>\n",
       "      <td>3109.0</td>\n",
       "      <td>142.33</td>\n",
       "      <td>0.0</td>\n",
       "      <td>1.465291e+12</td>\n",
       "      <td>42.970084</td>\n",
       "      <td>-71.405283</td>\n",
       "      <td>3109</td>\n",
       "    </tr>\n",
       "    <tr>\n",
       "      <th>105</th>\n",
       "      <td>5.523774e+18</td>\n",
       "      <td>3076.0</td>\n",
       "      <td>82.04</td>\n",
       "      <td>0.0</td>\n",
       "      <td>1.465291e+12</td>\n",
       "      <td>42.740651</td>\n",
       "      <td>-71.318715</td>\n",
       "      <td>3076</td>\n",
       "    </tr>\n",
       "    <tr>\n",
       "      <th>980</th>\n",
       "      <td>4.935318e+18</td>\n",
       "      <td>3109.0</td>\n",
       "      <td>129.57</td>\n",
       "      <td>0.0</td>\n",
       "      <td>1.465291e+12</td>\n",
       "      <td>42.970084</td>\n",
       "      <td>-71.405283</td>\n",
       "      <td>3109</td>\n",
       "    </tr>\n",
       "    <tr>\n",
       "      <th>923</th>\n",
       "      <td>5.416191e+18</td>\n",
       "      <td>3063.0</td>\n",
       "      <td>151.12</td>\n",
       "      <td>0.0</td>\n",
       "      <td>1.465291e+12</td>\n",
       "      <td>42.774427</td>\n",
       "      <td>-71.511111</td>\n",
       "      <td>3063</td>\n",
       "    </tr>\n",
       "    <tr>\n",
       "      <th>70</th>\n",
       "      <td>7.250209e+18</td>\n",
       "      <td>3102.0</td>\n",
       "      <td>76.59</td>\n",
       "      <td>0.0</td>\n",
       "      <td>1.465291e+12</td>\n",
       "      <td>43.007883</td>\n",
       "      <td>-71.494561</td>\n",
       "      <td>3102</td>\n",
       "    </tr>\n",
       "    <tr>\n",
       "      <th>174</th>\n",
       "      <td>5.798320e+18</td>\n",
       "      <td>3107.0</td>\n",
       "      <td>100.04</td>\n",
       "      <td>0.0</td>\n",
       "      <td>1.465291e+12</td>\n",
       "      <td>42.952124</td>\n",
       "      <td>-71.653939</td>\n",
       "      <td>3107</td>\n",
       "    </tr>\n",
       "    <tr>\n",
       "      <th>318</th>\n",
       "      <td>8.540583e+18</td>\n",
       "      <td>3079.0</td>\n",
       "      <td>95.01</td>\n",
       "      <td>0.0</td>\n",
       "      <td>1.465291e+12</td>\n",
       "      <td>42.872045</td>\n",
       "      <td>-71.196195</td>\n",
       "      <td>3079</td>\n",
       "    </tr>\n",
       "    <tr>\n",
       "      <th>872</th>\n",
       "      <td>8.420866e+18</td>\n",
       "      <td>3054.0</td>\n",
       "      <td>126.13</td>\n",
       "      <td>0.0</td>\n",
       "      <td>1.465291e+12</td>\n",
       "      <td>42.924928</td>\n",
       "      <td>-71.667508</td>\n",
       "      <td>3054</td>\n",
       "    </tr>\n",
       "    <tr>\n",
       "      <th>724</th>\n",
       "      <td>6.332410e+18</td>\n",
       "      <td>3106.0</td>\n",
       "      <td>142.24</td>\n",
       "      <td>0.0</td>\n",
       "      <td>1.465291e+12</td>\n",
       "      <td>43.065097</td>\n",
       "      <td>-71.443616</td>\n",
       "      <td>3106</td>\n",
       "    </tr>\n",
       "    <tr>\n",
       "      <th>531</th>\n",
       "      <td>8.238206e+18</td>\n",
       "      <td>3049.0</td>\n",
       "      <td>90.29</td>\n",
       "      <td>0.0</td>\n",
       "      <td>1.465291e+12</td>\n",
       "      <td>42.859545</td>\n",
       "      <td>-71.581313</td>\n",
       "      <td>3049</td>\n",
       "    </tr>\n",
       "  </tbody>\n",
       "</table>\n",
       "</div>"
      ],
      "text/plain": [
       "             id_x  device_id  transaction_value  account_id     ts_millis  \\\n",
       "979  6.218017e+18     3109.0             142.33         0.0  1.465291e+12   \n",
       "105  5.523774e+18     3076.0              82.04         0.0  1.465291e+12   \n",
       "980  4.935318e+18     3109.0             129.57         0.0  1.465291e+12   \n",
       "923  5.416191e+18     3063.0             151.12         0.0  1.465291e+12   \n",
       "70   7.250209e+18     3102.0              76.59         0.0  1.465291e+12   \n",
       "174  5.798320e+18     3107.0             100.04         0.0  1.465291e+12   \n",
       "318  8.540583e+18     3079.0              95.01         0.0  1.465291e+12   \n",
       "872  8.420866e+18     3054.0             126.13         0.0  1.465291e+12   \n",
       "724  6.332410e+18     3106.0             142.24         0.0  1.465291e+12   \n",
       "531  8.238206e+18     3049.0              90.29         0.0  1.465291e+12   \n",
       "\n",
       "      latitude  longitude   zip  \n",
       "979  42.970084 -71.405283  3109  \n",
       "105  42.740651 -71.318715  3076  \n",
       "980  42.970084 -71.405283  3109  \n",
       "923  42.774427 -71.511111  3063  \n",
       "70   43.007883 -71.494561  3102  \n",
       "174  42.952124 -71.653939  3107  \n",
       "318  42.872045 -71.196195  3079  \n",
       "872  42.924928 -71.667508  3054  \n",
       "724  43.065097 -71.443616  3106  \n",
       "531  42.859545 -71.581313  3049  "
      ]
     },
     "execution_count": 121,
     "metadata": {},
     "output_type": "execute_result"
    }
   ],
   "source": [
    "analysis_data_sor=analysis_data.sort_values(['account_id','ts_millis'],axis=0, ascending=True)\n",
    "\n",
    "analysis_data_sor.head(10)\n"
   ]
  },
  {
   "cell_type": "code",
   "execution_count": 122,
   "metadata": {
    "collapsed": false
   },
   "outputs": [
    {
     "data": {
      "text/plain": [
       "Index(['id_x', 'device_id', 'transaction_value', 'account_id', 'ts_millis',\n",
       "       'latitude', 'longitude', 'zip'],\n",
       "      dtype='object')"
      ]
     },
     "execution_count": 122,
     "metadata": {},
     "output_type": "execute_result"
    }
   ],
   "source": [
    "analysis_data_sor.columns\n",
    "\n"
   ]
  },
  {
   "cell_type": "code",
   "execution_count": 123,
   "metadata": {
    "collapsed": false
   },
   "outputs": [],
   "source": [
    "#def  Check_Prev(a):\n",
    "#    \n",
    "#    a=analysis_data_sor[i==analysis_data_sor['account_id']]\n",
    "#    b=a.drop(a.head(1).index, inplace=False)\n",
    "#    a['ts_millis_dif']=a['ts_millis']-b['ts_millis']\n",
    "#    a['latitude_diff']=a['latitude']-b['latitude']\n",
    "#    a['longitude_diff']=a['longitude']-b['longitude']\n",
    "#    analysis_data_sor['ts_millis_dif','latitude_diff','longitude_diff']=a[a['ts_millis_dif','latitude_diff','longitude_diff']]\n",
    "\n",
    "#for i in account_cnt:\n",
    "    # Check_Prev(i)\n",
    "#    a=analysis_data_sor[i==analysis_data_sor['account_id']]\n",
    "#    b=a.drop(a.head(1).index, inplace=False)\n",
    "#    a['ts_millis_dif']=a['ts_millis']-b['ts_millis']\n",
    "#    a['latitude_diff']=a['latitude']-b['latitude']\n",
    "#    a['longitude_diff']=a['longitude']-b['longitude']\n",
    "#    \n",
    "#    analysis_data_sor['ts_millis_dif','latitude_diff','longitude_diff']=a[a['ts_millis_dif','latitude_diff','longitude_diff']]\n",
    "#   a.drop()\n",
    "\n",
    "\n",
    "\n",
    "    \n",
    "    \n",
    "#a.head()\n"
   ]
  },
  {
   "cell_type": "code",
   "execution_count": 124,
   "metadata": {
    "collapsed": false
   },
   "outputs": [
    {
     "data": {
      "text/html": [
       "<div>\n",
       "<table border=\"1\" class=\"dataframe\">\n",
       "  <thead>\n",
       "    <tr style=\"text-align: right;\">\n",
       "      <th></th>\n",
       "      <th>id_x</th>\n",
       "      <th>device_id</th>\n",
       "      <th>transaction_value</th>\n",
       "      <th>account_id</th>\n",
       "      <th>ts_millis</th>\n",
       "      <th>latitude</th>\n",
       "      <th>longitude</th>\n",
       "      <th>zip</th>\n",
       "    </tr>\n",
       "  </thead>\n",
       "  <tbody>\n",
       "    <tr>\n",
       "      <th>979</th>\n",
       "      <td>6.218017e+18</td>\n",
       "      <td>3109.0</td>\n",
       "      <td>142.33</td>\n",
       "      <td>0.0</td>\n",
       "      <td>1.465291e+12</td>\n",
       "      <td>42.970084</td>\n",
       "      <td>-71.405283</td>\n",
       "      <td>3109</td>\n",
       "    </tr>\n",
       "    <tr>\n",
       "      <th>105</th>\n",
       "      <td>5.523774e+18</td>\n",
       "      <td>3076.0</td>\n",
       "      <td>82.04</td>\n",
       "      <td>0.0</td>\n",
       "      <td>1.465291e+12</td>\n",
       "      <td>42.740651</td>\n",
       "      <td>-71.318715</td>\n",
       "      <td>3076</td>\n",
       "    </tr>\n",
       "  </tbody>\n",
       "</table>\n",
       "</div>"
      ],
      "text/plain": [
       "             id_x  device_id  transaction_value  account_id     ts_millis  \\\n",
       "979  6.218017e+18     3109.0             142.33         0.0  1.465291e+12   \n",
       "105  5.523774e+18     3076.0              82.04         0.0  1.465291e+12   \n",
       "\n",
       "      latitude  longitude   zip  \n",
       "979  42.970084 -71.405283  3109  \n",
       "105  42.740651 -71.318715  3076  "
      ]
     },
     "execution_count": 124,
     "metadata": {},
     "output_type": "execute_result"
    }
   ],
   "source": [
    "analysis_data_sor.head(2)"
   ]
  },
  {
   "cell_type": "code",
   "execution_count": 131,
   "metadata": {
    "collapsed": false
   },
   "outputs": [
    {
     "data": {
      "text/html": [
       "<div>\n",
       "<table border=\"1\" class=\"dataframe\">\n",
       "  <thead>\n",
       "    <tr style=\"text-align: right;\">\n",
       "      <th></th>\n",
       "      <th>id_x_x</th>\n",
       "      <th>device_id_x</th>\n",
       "      <th>transaction_value_x</th>\n",
       "      <th>account_id</th>\n",
       "      <th>ts_millis_x</th>\n",
       "      <th>latitude_x</th>\n",
       "      <th>longitude_x</th>\n",
       "      <th>zip_x</th>\n",
       "      <th>id_x_y</th>\n",
       "      <th>device_id_y</th>\n",
       "      <th>transaction_value_y</th>\n",
       "      <th>ts_millis_y</th>\n",
       "      <th>latitude_y</th>\n",
       "      <th>longitude_y</th>\n",
       "      <th>zip_y</th>\n",
       "    </tr>\n",
       "  </thead>\n",
       "  <tbody>\n",
       "    <tr>\n",
       "      <th>45</th>\n",
       "      <td>5.416191e+18</td>\n",
       "      <td>3063.0</td>\n",
       "      <td>151.12</td>\n",
       "      <td>0.0</td>\n",
       "      <td>1.465291e+12</td>\n",
       "      <td>42.774427</td>\n",
       "      <td>-71.511111</td>\n",
       "      <td>3063</td>\n",
       "      <td>4.935318e+18</td>\n",
       "      <td>3109.0</td>\n",
       "      <td>129.57</td>\n",
       "      <td>1.465291e+12</td>\n",
       "      <td>42.970084</td>\n",
       "      <td>-71.405283</td>\n",
       "      <td>3109</td>\n",
       "    </tr>\n",
       "  </tbody>\n",
       "</table>\n",
       "</div>"
      ],
      "text/plain": [
       "          id_x_x  device_id_x  transaction_value_x  account_id   ts_millis_x  \\\n",
       "45  5.416191e+18       3063.0               151.12         0.0  1.465291e+12   \n",
       "\n",
       "    latitude_x  longitude_x  zip_x        id_x_y  device_id_y  \\\n",
       "45   42.774427   -71.511111   3063  4.935318e+18       3109.0   \n",
       "\n",
       "    transaction_value_y   ts_millis_y  latitude_y  longitude_y  zip_y  \n",
       "45               129.57  1.465291e+12   42.970084   -71.405283   3109  "
      ]
     },
     "execution_count": 131,
     "metadata": {},
     "output_type": "execute_result"
    }
   ],
   "source": [
    "\n",
    "analysis_data_sor_b=analysis_data_sor.drop(analysis_data_sor.head(2).index, inplace=False)\n",
    "analysis_final=pd.merge(analysis_data_sor, analysis_data_sor_b, how='inner', left_on= ['account_id'], right_on=  ['account_id'])\n",
    "analysis_final.columns\n",
    "\n",
    "#analysis_a=analysis_final[(analysis_final.ts_millis_x>analysis_final.ts_millis_y)]\n",
    "\n",
    "analysis_a=analysis_final[(analysis_final['ts_millis_x']>analysis_final['ts_millis_y']+5)]\n",
    "\n",
    "analysis_a.head(1)"
   ]
  },
  {
   "cell_type": "code",
   "execution_count": 132,
   "metadata": {
    "collapsed": false
   },
   "outputs": [
    {
     "data": {
      "text/plain": [
       "(array([   0,    1,    2, ..., 7677, 7678, 7679]),)"
      ]
     },
     "execution_count": 132,
     "metadata": {},
     "output_type": "execute_result"
    }
   ],
   "source": [
    "#analysis_a[analysis_a['ts_millis_y','ts_millis_x']]\n",
    "np.where(analysis_a['ts_millis_x']>analysis_a['ts_millis_y'])"
   ]
  },
  {
   "cell_type": "code",
   "execution_count": 133,
   "metadata": {
    "collapsed": false
   },
   "outputs": [
    {
     "data": {
      "text/html": [
       "<div>\n",
       "<table border=\"1\" class=\"dataframe\">\n",
       "  <thead>\n",
       "    <tr style=\"text-align: right;\">\n",
       "      <th></th>\n",
       "      <th>id_x</th>\n",
       "      <th>device_id</th>\n",
       "      <th>transaction_value</th>\n",
       "      <th>account_id</th>\n",
       "      <th>ts_millis</th>\n",
       "      <th>latitude</th>\n",
       "      <th>longitude</th>\n",
       "      <th>zip</th>\n",
       "    </tr>\n",
       "  </thead>\n",
       "  <tbody>\n",
       "    <tr>\n",
       "      <th>979</th>\n",
       "      <td>6.218017e+18</td>\n",
       "      <td>3109.0</td>\n",
       "      <td>142.33</td>\n",
       "      <td>0.0</td>\n",
       "      <td>1.465291e+12</td>\n",
       "      <td>42.970084</td>\n",
       "      <td>-71.405283</td>\n",
       "      <td>3109</td>\n",
       "    </tr>\n",
       "    <tr>\n",
       "      <th>105</th>\n",
       "      <td>5.523774e+18</td>\n",
       "      <td>3076.0</td>\n",
       "      <td>82.04</td>\n",
       "      <td>0.0</td>\n",
       "      <td>1.465291e+12</td>\n",
       "      <td>42.740651</td>\n",
       "      <td>-71.318715</td>\n",
       "      <td>3076</td>\n",
       "    </tr>\n",
       "  </tbody>\n",
       "</table>\n",
       "</div>"
      ],
      "text/plain": [
       "             id_x  device_id  transaction_value  account_id     ts_millis  \\\n",
       "979  6.218017e+18     3109.0             142.33         0.0  1.465291e+12   \n",
       "105  5.523774e+18     3076.0              82.04         0.0  1.465291e+12   \n",
       "\n",
       "      latitude  longitude   zip  \n",
       "979  42.970084 -71.405283  3109  \n",
       "105  42.740651 -71.318715  3076  "
      ]
     },
     "execution_count": 133,
     "metadata": {},
     "output_type": "execute_result"
    }
   ],
   "source": [
    "analysis_data_sor.head(2)"
   ]
  },
  {
   "cell_type": "code",
   "execution_count": 134,
   "metadata": {
    "collapsed": false
   },
   "outputs": [
    {
     "data": {
      "text/html": [
       "<div>\n",
       "<table border=\"1\" class=\"dataframe\">\n",
       "  <thead>\n",
       "    <tr style=\"text-align: right;\">\n",
       "      <th></th>\n",
       "      <th>id_x</th>\n",
       "      <th>device_id</th>\n",
       "      <th>transaction_value</th>\n",
       "      <th>account_id</th>\n",
       "      <th>ts_millis</th>\n",
       "      <th>latitude</th>\n",
       "      <th>longitude</th>\n",
       "      <th>zip</th>\n",
       "    </tr>\n",
       "  </thead>\n",
       "  <tbody>\n",
       "    <tr>\n",
       "      <th>979</th>\n",
       "      <td>6.218017e+18</td>\n",
       "      <td>3109.0</td>\n",
       "      <td>142.33</td>\n",
       "      <td>0.0</td>\n",
       "      <td>1.465291e+12</td>\n",
       "      <td>42.970084</td>\n",
       "      <td>-71.405283</td>\n",
       "      <td>3109</td>\n",
       "    </tr>\n",
       "  </tbody>\n",
       "</table>\n",
       "</div>"
      ],
      "text/plain": [
       "             id_x  device_id  transaction_value  account_id     ts_millis  \\\n",
       "979  6.218017e+18     3109.0             142.33         0.0  1.465291e+12   \n",
       "\n",
       "      latitude  longitude   zip  \n",
       "979  42.970084 -71.405283  3109  "
      ]
     },
     "execution_count": 134,
     "metadata": {},
     "output_type": "execute_result"
    }
   ],
   "source": [
    "analysis_data_sor.head(1)"
   ]
  },
  {
   "cell_type": "code",
   "execution_count": 135,
   "metadata": {
    "collapsed": false
   },
   "outputs": [
    {
     "name": "stdout",
     "output_type": "stream",
     "text": [
      "Result: 278.54558935106695\n",
      "Should be: 278.546 km\n"
     ]
    }
   ],
   "source": [
    "\n",
    "from math import sin, cos, sqrt, atan2, radians\n",
    "\n",
    "# approximate radius of earth in km\n",
    "R = 6373.0\n",
    "\n",
    "lat1 = radians(52.2296756)\n",
    "lon1 = radians(21.0122287)\n",
    "lat2 = radians(52.406374)\n",
    "lon2 = radians(16.9251681)\n",
    "\n",
    "dlon = lon2 - lon1\n",
    "dlat = lat2 - lat1\n",
    "\n",
    "a = sin(dlat / 2)**2 + cos(lat1) * cos(lat2) * sin(dlon / 2)**2\n",
    "c = 2 * atan2(sqrt(a), sqrt(1 - a))\n",
    "\n",
    "distance = R * c\n",
    "\n",
    "print(\"Result:\", distance)\n",
    "print(\"Should be:\", 278.546, \"km\")\n"
   ]
  },
  {
   "cell_type": "code",
   "execution_count": 136,
   "metadata": {
    "collapsed": false
   },
   "outputs": [],
   "source": [
    "from math import sin, cos, sqrt, atan2, radians\n",
    "\n",
    "\n",
    "\n",
    "def Convert_Radians(radian):\n",
    "\n",
    "    # approximate radius of earth in km\n",
    "    R = 6373.0\n",
    "\n",
    "    lat1 = radians(radian['latitude_x'])\n",
    "    lon1 = radians(radian['longitude_x'])\n",
    "    lat2 = radians(radian['latitude_y'])\n",
    "    lon2 = radians(radian['longitude_x'])\n",
    "\n",
    "    dlon = lon2 - lon1\n",
    "    dlat = lat2 - lat1\n",
    "\n",
    "    a = sin(dlat / 2)**2 + cos(lat1) * cos(lat2) * sin(dlon / 2)**2\n",
    "    c = 2 * atan2(sqrt(a), sqrt(1 - a))\n",
    "\n",
    "    distance = R * c\n",
    "    return distance\n",
    "   "
   ]
  },
  {
   "cell_type": "code",
   "execution_count": 137,
   "metadata": {
    "collapsed": false
   },
   "outputs": [
    {
     "data": {
      "text/html": [
       "<div>\n",
       "<table border=\"1\" class=\"dataframe\">\n",
       "  <thead>\n",
       "    <tr style=\"text-align: right;\">\n",
       "      <th></th>\n",
       "      <th>id_x_x</th>\n",
       "      <th>device_id_x</th>\n",
       "      <th>transaction_value_x</th>\n",
       "      <th>account_id</th>\n",
       "      <th>ts_millis_x</th>\n",
       "      <th>latitude_x</th>\n",
       "      <th>longitude_x</th>\n",
       "      <th>zip_x</th>\n",
       "      <th>id_x_y</th>\n",
       "      <th>device_id_y</th>\n",
       "      <th>transaction_value_y</th>\n",
       "      <th>ts_millis_y</th>\n",
       "      <th>latitude_y</th>\n",
       "      <th>longitude_y</th>\n",
       "      <th>zip_y</th>\n",
       "    </tr>\n",
       "  </thead>\n",
       "  <tbody>\n",
       "    <tr>\n",
       "      <th>45</th>\n",
       "      <td>5.416191e+18</td>\n",
       "      <td>3063.0</td>\n",
       "      <td>151.12</td>\n",
       "      <td>0.0</td>\n",
       "      <td>1.465291e+12</td>\n",
       "      <td>42.774427</td>\n",
       "      <td>-71.511111</td>\n",
       "      <td>3063</td>\n",
       "      <td>4.935318e+18</td>\n",
       "      <td>3109.0</td>\n",
       "      <td>129.57</td>\n",
       "      <td>1.465291e+12</td>\n",
       "      <td>42.970084</td>\n",
       "      <td>-71.405283</td>\n",
       "      <td>3109</td>\n",
       "    </tr>\n",
       "    <tr>\n",
       "      <th>60</th>\n",
       "      <td>7.250209e+18</td>\n",
       "      <td>3102.0</td>\n",
       "      <td>76.59</td>\n",
       "      <td>0.0</td>\n",
       "      <td>1.465291e+12</td>\n",
       "      <td>43.007883</td>\n",
       "      <td>-71.494561</td>\n",
       "      <td>3102</td>\n",
       "      <td>4.935318e+18</td>\n",
       "      <td>3109.0</td>\n",
       "      <td>129.57</td>\n",
       "      <td>1.465291e+12</td>\n",
       "      <td>42.970084</td>\n",
       "      <td>-71.405283</td>\n",
       "      <td>3109</td>\n",
       "    </tr>\n",
       "    <tr>\n",
       "      <th>61</th>\n",
       "      <td>7.250209e+18</td>\n",
       "      <td>3102.0</td>\n",
       "      <td>76.59</td>\n",
       "      <td>0.0</td>\n",
       "      <td>1.465291e+12</td>\n",
       "      <td>43.007883</td>\n",
       "      <td>-71.494561</td>\n",
       "      <td>3102</td>\n",
       "      <td>5.416191e+18</td>\n",
       "      <td>3063.0</td>\n",
       "      <td>151.12</td>\n",
       "      <td>1.465291e+12</td>\n",
       "      <td>42.774427</td>\n",
       "      <td>-71.511111</td>\n",
       "      <td>3063</td>\n",
       "    </tr>\n",
       "    <tr>\n",
       "      <th>75</th>\n",
       "      <td>5.798320e+18</td>\n",
       "      <td>3107.0</td>\n",
       "      <td>100.04</td>\n",
       "      <td>0.0</td>\n",
       "      <td>1.465291e+12</td>\n",
       "      <td>42.952124</td>\n",
       "      <td>-71.653939</td>\n",
       "      <td>3107</td>\n",
       "      <td>4.935318e+18</td>\n",
       "      <td>3109.0</td>\n",
       "      <td>129.57</td>\n",
       "      <td>1.465291e+12</td>\n",
       "      <td>42.970084</td>\n",
       "      <td>-71.405283</td>\n",
       "      <td>3109</td>\n",
       "    </tr>\n",
       "    <tr>\n",
       "      <th>76</th>\n",
       "      <td>5.798320e+18</td>\n",
       "      <td>3107.0</td>\n",
       "      <td>100.04</td>\n",
       "      <td>0.0</td>\n",
       "      <td>1.465291e+12</td>\n",
       "      <td>42.952124</td>\n",
       "      <td>-71.653939</td>\n",
       "      <td>3107</td>\n",
       "      <td>5.416191e+18</td>\n",
       "      <td>3063.0</td>\n",
       "      <td>151.12</td>\n",
       "      <td>1.465291e+12</td>\n",
       "      <td>42.774427</td>\n",
       "      <td>-71.511111</td>\n",
       "      <td>3063</td>\n",
       "    </tr>\n",
       "    <tr>\n",
       "      <th>77</th>\n",
       "      <td>5.798320e+18</td>\n",
       "      <td>3107.0</td>\n",
       "      <td>100.04</td>\n",
       "      <td>0.0</td>\n",
       "      <td>1.465291e+12</td>\n",
       "      <td>42.952124</td>\n",
       "      <td>-71.653939</td>\n",
       "      <td>3107</td>\n",
       "      <td>7.250209e+18</td>\n",
       "      <td>3102.0</td>\n",
       "      <td>76.59</td>\n",
       "      <td>1.465291e+12</td>\n",
       "      <td>43.007883</td>\n",
       "      <td>-71.494561</td>\n",
       "      <td>3102</td>\n",
       "    </tr>\n",
       "    <tr>\n",
       "      <th>90</th>\n",
       "      <td>8.540583e+18</td>\n",
       "      <td>3079.0</td>\n",
       "      <td>95.01</td>\n",
       "      <td>0.0</td>\n",
       "      <td>1.465291e+12</td>\n",
       "      <td>42.872045</td>\n",
       "      <td>-71.196195</td>\n",
       "      <td>3079</td>\n",
       "      <td>4.935318e+18</td>\n",
       "      <td>3109.0</td>\n",
       "      <td>129.57</td>\n",
       "      <td>1.465291e+12</td>\n",
       "      <td>42.970084</td>\n",
       "      <td>-71.405283</td>\n",
       "      <td>3109</td>\n",
       "    </tr>\n",
       "    <tr>\n",
       "      <th>91</th>\n",
       "      <td>8.540583e+18</td>\n",
       "      <td>3079.0</td>\n",
       "      <td>95.01</td>\n",
       "      <td>0.0</td>\n",
       "      <td>1.465291e+12</td>\n",
       "      <td>42.872045</td>\n",
       "      <td>-71.196195</td>\n",
       "      <td>3079</td>\n",
       "      <td>5.416191e+18</td>\n",
       "      <td>3063.0</td>\n",
       "      <td>151.12</td>\n",
       "      <td>1.465291e+12</td>\n",
       "      <td>42.774427</td>\n",
       "      <td>-71.511111</td>\n",
       "      <td>3063</td>\n",
       "    </tr>\n",
       "    <tr>\n",
       "      <th>92</th>\n",
       "      <td>8.540583e+18</td>\n",
       "      <td>3079.0</td>\n",
       "      <td>95.01</td>\n",
       "      <td>0.0</td>\n",
       "      <td>1.465291e+12</td>\n",
       "      <td>42.872045</td>\n",
       "      <td>-71.196195</td>\n",
       "      <td>3079</td>\n",
       "      <td>7.250209e+18</td>\n",
       "      <td>3102.0</td>\n",
       "      <td>76.59</td>\n",
       "      <td>1.465291e+12</td>\n",
       "      <td>43.007883</td>\n",
       "      <td>-71.494561</td>\n",
       "      <td>3102</td>\n",
       "    </tr>\n",
       "    <tr>\n",
       "      <th>93</th>\n",
       "      <td>8.540583e+18</td>\n",
       "      <td>3079.0</td>\n",
       "      <td>95.01</td>\n",
       "      <td>0.0</td>\n",
       "      <td>1.465291e+12</td>\n",
       "      <td>42.872045</td>\n",
       "      <td>-71.196195</td>\n",
       "      <td>3079</td>\n",
       "      <td>5.798320e+18</td>\n",
       "      <td>3107.0</td>\n",
       "      <td>100.04</td>\n",
       "      <td>1.465291e+12</td>\n",
       "      <td>42.952124</td>\n",
       "      <td>-71.653939</td>\n",
       "      <td>3107</td>\n",
       "    </tr>\n",
       "  </tbody>\n",
       "</table>\n",
       "</div>"
      ],
      "text/plain": [
       "          id_x_x  device_id_x  transaction_value_x  account_id   ts_millis_x  \\\n",
       "45  5.416191e+18       3063.0               151.12         0.0  1.465291e+12   \n",
       "60  7.250209e+18       3102.0                76.59         0.0  1.465291e+12   \n",
       "61  7.250209e+18       3102.0                76.59         0.0  1.465291e+12   \n",
       "75  5.798320e+18       3107.0               100.04         0.0  1.465291e+12   \n",
       "76  5.798320e+18       3107.0               100.04         0.0  1.465291e+12   \n",
       "77  5.798320e+18       3107.0               100.04         0.0  1.465291e+12   \n",
       "90  8.540583e+18       3079.0                95.01         0.0  1.465291e+12   \n",
       "91  8.540583e+18       3079.0                95.01         0.0  1.465291e+12   \n",
       "92  8.540583e+18       3079.0                95.01         0.0  1.465291e+12   \n",
       "93  8.540583e+18       3079.0                95.01         0.0  1.465291e+12   \n",
       "\n",
       "    latitude_x  longitude_x  zip_x        id_x_y  device_id_y  \\\n",
       "45   42.774427   -71.511111   3063  4.935318e+18       3109.0   \n",
       "60   43.007883   -71.494561   3102  4.935318e+18       3109.0   \n",
       "61   43.007883   -71.494561   3102  5.416191e+18       3063.0   \n",
       "75   42.952124   -71.653939   3107  4.935318e+18       3109.0   \n",
       "76   42.952124   -71.653939   3107  5.416191e+18       3063.0   \n",
       "77   42.952124   -71.653939   3107  7.250209e+18       3102.0   \n",
       "90   42.872045   -71.196195   3079  4.935318e+18       3109.0   \n",
       "91   42.872045   -71.196195   3079  5.416191e+18       3063.0   \n",
       "92   42.872045   -71.196195   3079  7.250209e+18       3102.0   \n",
       "93   42.872045   -71.196195   3079  5.798320e+18       3107.0   \n",
       "\n",
       "    transaction_value_y   ts_millis_y  latitude_y  longitude_y  zip_y  \n",
       "45               129.57  1.465291e+12   42.970084   -71.405283   3109  \n",
       "60               129.57  1.465291e+12   42.970084   -71.405283   3109  \n",
       "61               151.12  1.465291e+12   42.774427   -71.511111   3063  \n",
       "75               129.57  1.465291e+12   42.970084   -71.405283   3109  \n",
       "76               151.12  1.465291e+12   42.774427   -71.511111   3063  \n",
       "77                76.59  1.465291e+12   43.007883   -71.494561   3102  \n",
       "90               129.57  1.465291e+12   42.970084   -71.405283   3109  \n",
       "91               151.12  1.465291e+12   42.774427   -71.511111   3063  \n",
       "92                76.59  1.465291e+12   43.007883   -71.494561   3102  \n",
       "93               100.04  1.465291e+12   42.952124   -71.653939   3107  "
      ]
     },
     "execution_count": 137,
     "metadata": {},
     "output_type": "execute_result"
    }
   ],
   "source": [
    "analysis_a.head(10)\n",
    "\n",
    "\n"
   ]
  },
  {
   "cell_type": "code",
   "execution_count": 138,
   "metadata": {
    "collapsed": false
   },
   "outputs": [
    {
     "name": "stderr",
     "output_type": "stream",
     "text": [
      "/Users/vishnoiprem/anaconda/lib/python3.5/site-packages/ipykernel/__main__.py:1: SettingWithCopyWarning: \n",
      "A value is trying to be set on a copy of a slice from a DataFrame.\n",
      "Try using .loc[row_indexer,col_indexer] = value instead\n",
      "\n",
      "See the caveats in the documentation: http://pandas.pydata.org/pandas-docs/stable/indexing.html#indexing-view-versus-copy\n",
      "  if __name__ == '__main__':\n"
     ]
    }
   ],
   "source": [
    "analysis_a['distance']=analysis_a.apply(Convert_Radians,axis = 1)\n"
   ]
  },
  {
   "cell_type": "code",
   "execution_count": 139,
   "metadata": {
    "collapsed": false
   },
   "outputs": [
    {
     "data": {
      "text/html": [
       "<div>\n",
       "<table border=\"1\" class=\"dataframe\">\n",
       "  <thead>\n",
       "    <tr style=\"text-align: right;\">\n",
       "      <th></th>\n",
       "      <th>id_x_x</th>\n",
       "      <th>device_id_x</th>\n",
       "      <th>transaction_value_x</th>\n",
       "      <th>account_id</th>\n",
       "      <th>ts_millis_x</th>\n",
       "      <th>latitude_x</th>\n",
       "      <th>longitude_x</th>\n",
       "      <th>zip_x</th>\n",
       "      <th>id_x_y</th>\n",
       "      <th>device_id_y</th>\n",
       "      <th>transaction_value_y</th>\n",
       "      <th>ts_millis_y</th>\n",
       "      <th>latitude_y</th>\n",
       "      <th>longitude_y</th>\n",
       "      <th>zip_y</th>\n",
       "      <th>distance</th>\n",
       "    </tr>\n",
       "  </thead>\n",
       "  <tbody>\n",
       "    <tr>\n",
       "      <th>45</th>\n",
       "      <td>5.416191e+18</td>\n",
       "      <td>3063.0</td>\n",
       "      <td>151.12</td>\n",
       "      <td>0.0</td>\n",
       "      <td>1.465291e+12</td>\n",
       "      <td>42.774427</td>\n",
       "      <td>-71.511111</td>\n",
       "      <td>3063</td>\n",
       "      <td>4.935318e+18</td>\n",
       "      <td>3109.0</td>\n",
       "      <td>129.57</td>\n",
       "      <td>1.465291e+12</td>\n",
       "      <td>42.970084</td>\n",
       "      <td>-71.405283</td>\n",
       "      <td>3109</td>\n",
       "      <td>21.762895</td>\n",
       "    </tr>\n",
       "    <tr>\n",
       "      <th>60</th>\n",
       "      <td>7.250209e+18</td>\n",
       "      <td>3102.0</td>\n",
       "      <td>76.59</td>\n",
       "      <td>0.0</td>\n",
       "      <td>1.465291e+12</td>\n",
       "      <td>43.007883</td>\n",
       "      <td>-71.494561</td>\n",
       "      <td>3102</td>\n",
       "      <td>4.935318e+18</td>\n",
       "      <td>3109.0</td>\n",
       "      <td>129.57</td>\n",
       "      <td>1.465291e+12</td>\n",
       "      <td>42.970084</td>\n",
       "      <td>-71.405283</td>\n",
       "      <td>3109</td>\n",
       "      <td>4.204376</td>\n",
       "    </tr>\n",
       "    <tr>\n",
       "      <th>61</th>\n",
       "      <td>7.250209e+18</td>\n",
       "      <td>3102.0</td>\n",
       "      <td>76.59</td>\n",
       "      <td>0.0</td>\n",
       "      <td>1.465291e+12</td>\n",
       "      <td>43.007883</td>\n",
       "      <td>-71.494561</td>\n",
       "      <td>3102</td>\n",
       "      <td>5.416191e+18</td>\n",
       "      <td>3063.0</td>\n",
       "      <td>151.12</td>\n",
       "      <td>1.465291e+12</td>\n",
       "      <td>42.774427</td>\n",
       "      <td>-71.511111</td>\n",
       "      <td>3063</td>\n",
       "      <td>25.967272</td>\n",
       "    </tr>\n",
       "    <tr>\n",
       "      <th>75</th>\n",
       "      <td>5.798320e+18</td>\n",
       "      <td>3107.0</td>\n",
       "      <td>100.04</td>\n",
       "      <td>0.0</td>\n",
       "      <td>1.465291e+12</td>\n",
       "      <td>42.952124</td>\n",
       "      <td>-71.653939</td>\n",
       "      <td>3107</td>\n",
       "      <td>4.935318e+18</td>\n",
       "      <td>3109.0</td>\n",
       "      <td>129.57</td>\n",
       "      <td>1.465291e+12</td>\n",
       "      <td>42.970084</td>\n",
       "      <td>-71.405283</td>\n",
       "      <td>3109</td>\n",
       "      <td>1.997688</td>\n",
       "    </tr>\n",
       "    <tr>\n",
       "      <th>76</th>\n",
       "      <td>5.798320e+18</td>\n",
       "      <td>3107.0</td>\n",
       "      <td>100.04</td>\n",
       "      <td>0.0</td>\n",
       "      <td>1.465291e+12</td>\n",
       "      <td>42.952124</td>\n",
       "      <td>-71.653939</td>\n",
       "      <td>3107</td>\n",
       "      <td>5.416191e+18</td>\n",
       "      <td>3063.0</td>\n",
       "      <td>151.12</td>\n",
       "      <td>1.465291e+12</td>\n",
       "      <td>42.774427</td>\n",
       "      <td>-71.511111</td>\n",
       "      <td>3063</td>\n",
       "      <td>19.765208</td>\n",
       "    </tr>\n",
       "  </tbody>\n",
       "</table>\n",
       "</div>"
      ],
      "text/plain": [
       "          id_x_x  device_id_x  transaction_value_x  account_id   ts_millis_x  \\\n",
       "45  5.416191e+18       3063.0               151.12         0.0  1.465291e+12   \n",
       "60  7.250209e+18       3102.0                76.59         0.0  1.465291e+12   \n",
       "61  7.250209e+18       3102.0                76.59         0.0  1.465291e+12   \n",
       "75  5.798320e+18       3107.0               100.04         0.0  1.465291e+12   \n",
       "76  5.798320e+18       3107.0               100.04         0.0  1.465291e+12   \n",
       "\n",
       "    latitude_x  longitude_x  zip_x        id_x_y  device_id_y  \\\n",
       "45   42.774427   -71.511111   3063  4.935318e+18       3109.0   \n",
       "60   43.007883   -71.494561   3102  4.935318e+18       3109.0   \n",
       "61   43.007883   -71.494561   3102  5.416191e+18       3063.0   \n",
       "75   42.952124   -71.653939   3107  4.935318e+18       3109.0   \n",
       "76   42.952124   -71.653939   3107  5.416191e+18       3063.0   \n",
       "\n",
       "    transaction_value_y   ts_millis_y  latitude_y  longitude_y  zip_y  \\\n",
       "45               129.57  1.465291e+12   42.970084   -71.405283   3109   \n",
       "60               129.57  1.465291e+12   42.970084   -71.405283   3109   \n",
       "61               151.12  1.465291e+12   42.774427   -71.511111   3063   \n",
       "75               129.57  1.465291e+12   42.970084   -71.405283   3109   \n",
       "76               151.12  1.465291e+12   42.774427   -71.511111   3063   \n",
       "\n",
       "     distance  \n",
       "45  21.762895  \n",
       "60   4.204376  \n",
       "61  25.967272  \n",
       "75   1.997688  \n",
       "76  19.765208  "
      ]
     },
     "execution_count": 139,
     "metadata": {},
     "output_type": "execute_result"
    }
   ],
   "source": [
    "analysis_a.head()"
   ]
  },
  {
   "cell_type": "code",
   "execution_count": 140,
   "metadata": {
    "collapsed": false
   },
   "outputs": [
    {
     "name": "stderr",
     "output_type": "stream",
     "text": [
      "/Users/vishnoiprem/anaconda/lib/python3.5/site-packages/ipykernel/__main__.py:15: SettingWithCopyWarning: \n",
      "A value is trying to be set on a copy of a slice from a DataFrame.\n",
      "Try using .loc[row_indexer,col_indexer] = value instead\n",
      "\n",
      "See the caveats in the documentation: http://pandas.pydata.org/pandas-docs/stable/indexing.html#indexing-view-versus-copy\n"
     ]
    }
   ],
   "source": [
    "def Diff(analysis_a):\n",
    "    \n",
    "    \n",
    "    # approximate radius of earth in km\n",
    "    R = 6373.0\n",
    "\n",
    "    diff = analysis_a['ts_millis_x']-analysis_a['ts_millis_y']\n",
    "   \n",
    "    distance = diff\n",
    "    return distance\n",
    "\n",
    "\n",
    "\n",
    "\n",
    "analysis_a['diff_first_second']=analysis_a.apply(Diff,axis = 1)\n",
    "\n"
   ]
  },
  {
   "cell_type": "code",
   "execution_count": 141,
   "metadata": {
    "collapsed": false
   },
   "outputs": [
    {
     "data": {
      "text/html": [
       "<div>\n",
       "<table border=\"1\" class=\"dataframe\">\n",
       "  <thead>\n",
       "    <tr style=\"text-align: right;\">\n",
       "      <th></th>\n",
       "      <th>id_x_x</th>\n",
       "      <th>device_id_x</th>\n",
       "      <th>transaction_value_x</th>\n",
       "      <th>account_id</th>\n",
       "      <th>ts_millis_x</th>\n",
       "      <th>latitude_x</th>\n",
       "      <th>longitude_x</th>\n",
       "      <th>zip_x</th>\n",
       "      <th>id_x_y</th>\n",
       "      <th>device_id_y</th>\n",
       "      <th>transaction_value_y</th>\n",
       "      <th>ts_millis_y</th>\n",
       "      <th>latitude_y</th>\n",
       "      <th>longitude_y</th>\n",
       "      <th>zip_y</th>\n",
       "      <th>distance</th>\n",
       "      <th>diff_first_second</th>\n",
       "    </tr>\n",
       "  </thead>\n",
       "  <tbody>\n",
       "    <tr>\n",
       "      <th>45</th>\n",
       "      <td>5.416191e+18</td>\n",
       "      <td>3063.0</td>\n",
       "      <td>151.12</td>\n",
       "      <td>0.0</td>\n",
       "      <td>1.465291e+12</td>\n",
       "      <td>42.774427</td>\n",
       "      <td>-71.511111</td>\n",
       "      <td>3063</td>\n",
       "      <td>4.935318e+18</td>\n",
       "      <td>3109.0</td>\n",
       "      <td>129.57</td>\n",
       "      <td>1.465291e+12</td>\n",
       "      <td>42.970084</td>\n",
       "      <td>-71.405283</td>\n",
       "      <td>3109</td>\n",
       "      <td>21.762895</td>\n",
       "      <td>85883.0</td>\n",
       "    </tr>\n",
       "    <tr>\n",
       "      <th>60</th>\n",
       "      <td>7.250209e+18</td>\n",
       "      <td>3102.0</td>\n",
       "      <td>76.59</td>\n",
       "      <td>0.0</td>\n",
       "      <td>1.465291e+12</td>\n",
       "      <td>43.007883</td>\n",
       "      <td>-71.494561</td>\n",
       "      <td>3102</td>\n",
       "      <td>4.935318e+18</td>\n",
       "      <td>3109.0</td>\n",
       "      <td>129.57</td>\n",
       "      <td>1.465291e+12</td>\n",
       "      <td>42.970084</td>\n",
       "      <td>-71.405283</td>\n",
       "      <td>3109</td>\n",
       "      <td>4.204376</td>\n",
       "      <td>120617.0</td>\n",
       "    </tr>\n",
       "    <tr>\n",
       "      <th>61</th>\n",
       "      <td>7.250209e+18</td>\n",
       "      <td>3102.0</td>\n",
       "      <td>76.59</td>\n",
       "      <td>0.0</td>\n",
       "      <td>1.465291e+12</td>\n",
       "      <td>43.007883</td>\n",
       "      <td>-71.494561</td>\n",
       "      <td>3102</td>\n",
       "      <td>5.416191e+18</td>\n",
       "      <td>3063.0</td>\n",
       "      <td>151.12</td>\n",
       "      <td>1.465291e+12</td>\n",
       "      <td>42.774427</td>\n",
       "      <td>-71.511111</td>\n",
       "      <td>3063</td>\n",
       "      <td>25.967272</td>\n",
       "      <td>34734.0</td>\n",
       "    </tr>\n",
       "    <tr>\n",
       "      <th>75</th>\n",
       "      <td>5.798320e+18</td>\n",
       "      <td>3107.0</td>\n",
       "      <td>100.04</td>\n",
       "      <td>0.0</td>\n",
       "      <td>1.465291e+12</td>\n",
       "      <td>42.952124</td>\n",
       "      <td>-71.653939</td>\n",
       "      <td>3107</td>\n",
       "      <td>4.935318e+18</td>\n",
       "      <td>3109.0</td>\n",
       "      <td>129.57</td>\n",
       "      <td>1.465291e+12</td>\n",
       "      <td>42.970084</td>\n",
       "      <td>-71.405283</td>\n",
       "      <td>3109</td>\n",
       "      <td>1.997688</td>\n",
       "      <td>223491.0</td>\n",
       "    </tr>\n",
       "    <tr>\n",
       "      <th>76</th>\n",
       "      <td>5.798320e+18</td>\n",
       "      <td>3107.0</td>\n",
       "      <td>100.04</td>\n",
       "      <td>0.0</td>\n",
       "      <td>1.465291e+12</td>\n",
       "      <td>42.952124</td>\n",
       "      <td>-71.653939</td>\n",
       "      <td>3107</td>\n",
       "      <td>5.416191e+18</td>\n",
       "      <td>3063.0</td>\n",
       "      <td>151.12</td>\n",
       "      <td>1.465291e+12</td>\n",
       "      <td>42.774427</td>\n",
       "      <td>-71.511111</td>\n",
       "      <td>3063</td>\n",
       "      <td>19.765208</td>\n",
       "      <td>137608.0</td>\n",
       "    </tr>\n",
       "  </tbody>\n",
       "</table>\n",
       "</div>"
      ],
      "text/plain": [
       "          id_x_x  device_id_x  transaction_value_x  account_id   ts_millis_x  \\\n",
       "45  5.416191e+18       3063.0               151.12         0.0  1.465291e+12   \n",
       "60  7.250209e+18       3102.0                76.59         0.0  1.465291e+12   \n",
       "61  7.250209e+18       3102.0                76.59         0.0  1.465291e+12   \n",
       "75  5.798320e+18       3107.0               100.04         0.0  1.465291e+12   \n",
       "76  5.798320e+18       3107.0               100.04         0.0  1.465291e+12   \n",
       "\n",
       "    latitude_x  longitude_x  zip_x        id_x_y  device_id_y  \\\n",
       "45   42.774427   -71.511111   3063  4.935318e+18       3109.0   \n",
       "60   43.007883   -71.494561   3102  4.935318e+18       3109.0   \n",
       "61   43.007883   -71.494561   3102  5.416191e+18       3063.0   \n",
       "75   42.952124   -71.653939   3107  4.935318e+18       3109.0   \n",
       "76   42.952124   -71.653939   3107  5.416191e+18       3063.0   \n",
       "\n",
       "    transaction_value_y   ts_millis_y  latitude_y  longitude_y  zip_y  \\\n",
       "45               129.57  1.465291e+12   42.970084   -71.405283   3109   \n",
       "60               129.57  1.465291e+12   42.970084   -71.405283   3109   \n",
       "61               151.12  1.465291e+12   42.774427   -71.511111   3063   \n",
       "75               129.57  1.465291e+12   42.970084   -71.405283   3109   \n",
       "76               151.12  1.465291e+12   42.774427   -71.511111   3063   \n",
       "\n",
       "     distance  diff_first_second  \n",
       "45  21.762895            85883.0  \n",
       "60   4.204376           120617.0  \n",
       "61  25.967272            34734.0  \n",
       "75   1.997688           223491.0  \n",
       "76  19.765208           137608.0  "
      ]
     },
     "execution_count": 141,
     "metadata": {},
     "output_type": "execute_result"
    }
   ],
   "source": [
    "analysis_a.head()"
   ]
  },
  {
   "cell_type": "code",
   "execution_count": 142,
   "metadata": {
    "collapsed": false
   },
   "outputs": [
    {
     "name": "stderr",
     "output_type": "stream",
     "text": [
      "/Users/vishnoiprem/anaconda/lib/python3.5/site-packages/ipykernel/__main__.py:3: SettingWithCopyWarning: \n",
      "A value is trying to be set on a copy of a slice from a DataFrame.\n",
      "Try using .loc[row_indexer,col_indexer] = value instead\n",
      "\n",
      "See the caveats in the documentation: http://pandas.pydata.org/pandas-docs/stable/indexing.html#indexing-view-versus-copy\n",
      "  app.launch_new_instance()\n"
     ]
    }
   ],
   "source": [
    "avg=analysis_a[['account_id','distance']].groupby('distance',axis=0,as_index=False ).apply(np.mean)\n",
    "\n",
    "analysis_a['average']=analysis_a['distance'].mean()\n"
   ]
  },
  {
   "cell_type": "code",
   "execution_count": 143,
   "metadata": {
    "collapsed": false
   },
   "outputs": [],
   "source": [
    "\n",
    "def frd(frd_txn):\n",
    "    #a=analysis_a[['account_id','distance']].groupby('distance',axis=0,as_index=False ).apply(np.mean)\n",
    "    frd_txn[(frd_txn.distance>frd_txn.average)]\n",
    "  "
   ]
  },
  {
   "cell_type": "code",
   "execution_count": null,
   "metadata": {
    "collapsed": false
   },
   "outputs": [],
   "source": []
  },
  {
   "cell_type": "code",
   "execution_count": 144,
   "metadata": {
    "collapsed": false
   },
   "outputs": [
    {
     "data": {
      "text/html": [
       "<div>\n",
       "<table border=\"1\" class=\"dataframe\">\n",
       "  <thead>\n",
       "    <tr style=\"text-align: right;\">\n",
       "      <th></th>\n",
       "      <th>id_x_x</th>\n",
       "      <th>device_id_x</th>\n",
       "      <th>transaction_value_x</th>\n",
       "      <th>account_id</th>\n",
       "      <th>ts_millis_x</th>\n",
       "      <th>latitude_x</th>\n",
       "      <th>longitude_x</th>\n",
       "      <th>zip_x</th>\n",
       "      <th>id_x_y</th>\n",
       "      <th>device_id_y</th>\n",
       "      <th>transaction_value_y</th>\n",
       "      <th>ts_millis_y</th>\n",
       "      <th>latitude_y</th>\n",
       "      <th>longitude_y</th>\n",
       "      <th>zip_y</th>\n",
       "      <th>distance</th>\n",
       "      <th>diff_first_second</th>\n",
       "      <th>average</th>\n",
       "    </tr>\n",
       "  </thead>\n",
       "  <tbody>\n",
       "    <tr>\n",
       "      <th>45</th>\n",
       "      <td>5.416191e+18</td>\n",
       "      <td>3063.0</td>\n",
       "      <td>151.12</td>\n",
       "      <td>0.0</td>\n",
       "      <td>1.465291e+12</td>\n",
       "      <td>42.774427</td>\n",
       "      <td>-71.511111</td>\n",
       "      <td>3063</td>\n",
       "      <td>4.935318e+18</td>\n",
       "      <td>3109.0</td>\n",
       "      <td>129.57</td>\n",
       "      <td>1.465291e+12</td>\n",
       "      <td>42.970084</td>\n",
       "      <td>-71.405283</td>\n",
       "      <td>3109</td>\n",
       "      <td>21.762895</td>\n",
       "      <td>85883.0</td>\n",
       "      <td>1.580835</td>\n",
       "    </tr>\n",
       "    <tr>\n",
       "      <th>60</th>\n",
       "      <td>7.250209e+18</td>\n",
       "      <td>3102.0</td>\n",
       "      <td>76.59</td>\n",
       "      <td>0.0</td>\n",
       "      <td>1.465291e+12</td>\n",
       "      <td>43.007883</td>\n",
       "      <td>-71.494561</td>\n",
       "      <td>3102</td>\n",
       "      <td>4.935318e+18</td>\n",
       "      <td>3109.0</td>\n",
       "      <td>129.57</td>\n",
       "      <td>1.465291e+12</td>\n",
       "      <td>42.970084</td>\n",
       "      <td>-71.405283</td>\n",
       "      <td>3109</td>\n",
       "      <td>4.204376</td>\n",
       "      <td>120617.0</td>\n",
       "      <td>1.580835</td>\n",
       "    </tr>\n",
       "    <tr>\n",
       "      <th>61</th>\n",
       "      <td>7.250209e+18</td>\n",
       "      <td>3102.0</td>\n",
       "      <td>76.59</td>\n",
       "      <td>0.0</td>\n",
       "      <td>1.465291e+12</td>\n",
       "      <td>43.007883</td>\n",
       "      <td>-71.494561</td>\n",
       "      <td>3102</td>\n",
       "      <td>5.416191e+18</td>\n",
       "      <td>3063.0</td>\n",
       "      <td>151.12</td>\n",
       "      <td>1.465291e+12</td>\n",
       "      <td>42.774427</td>\n",
       "      <td>-71.511111</td>\n",
       "      <td>3063</td>\n",
       "      <td>25.967272</td>\n",
       "      <td>34734.0</td>\n",
       "      <td>1.580835</td>\n",
       "    </tr>\n",
       "    <tr>\n",
       "      <th>75</th>\n",
       "      <td>5.798320e+18</td>\n",
       "      <td>3107.0</td>\n",
       "      <td>100.04</td>\n",
       "      <td>0.0</td>\n",
       "      <td>1.465291e+12</td>\n",
       "      <td>42.952124</td>\n",
       "      <td>-71.653939</td>\n",
       "      <td>3107</td>\n",
       "      <td>4.935318e+18</td>\n",
       "      <td>3109.0</td>\n",
       "      <td>129.57</td>\n",
       "      <td>1.465291e+12</td>\n",
       "      <td>42.970084</td>\n",
       "      <td>-71.405283</td>\n",
       "      <td>3109</td>\n",
       "      <td>1.997688</td>\n",
       "      <td>223491.0</td>\n",
       "      <td>1.580835</td>\n",
       "    </tr>\n",
       "    <tr>\n",
       "      <th>76</th>\n",
       "      <td>5.798320e+18</td>\n",
       "      <td>3107.0</td>\n",
       "      <td>100.04</td>\n",
       "      <td>0.0</td>\n",
       "      <td>1.465291e+12</td>\n",
       "      <td>42.952124</td>\n",
       "      <td>-71.653939</td>\n",
       "      <td>3107</td>\n",
       "      <td>5.416191e+18</td>\n",
       "      <td>3063.0</td>\n",
       "      <td>151.12</td>\n",
       "      <td>1.465291e+12</td>\n",
       "      <td>42.774427</td>\n",
       "      <td>-71.511111</td>\n",
       "      <td>3063</td>\n",
       "      <td>19.765208</td>\n",
       "      <td>137608.0</td>\n",
       "      <td>1.580835</td>\n",
       "    </tr>\n",
       "    <tr>\n",
       "      <th>77</th>\n",
       "      <td>5.798320e+18</td>\n",
       "      <td>3107.0</td>\n",
       "      <td>100.04</td>\n",
       "      <td>0.0</td>\n",
       "      <td>1.465291e+12</td>\n",
       "      <td>42.952124</td>\n",
       "      <td>-71.653939</td>\n",
       "      <td>3107</td>\n",
       "      <td>7.250209e+18</td>\n",
       "      <td>3102.0</td>\n",
       "      <td>76.59</td>\n",
       "      <td>1.465291e+12</td>\n",
       "      <td>43.007883</td>\n",
       "      <td>-71.494561</td>\n",
       "      <td>3102</td>\n",
       "      <td>6.202064</td>\n",
       "      <td>102874.0</td>\n",
       "      <td>1.580835</td>\n",
       "    </tr>\n",
       "    <tr>\n",
       "      <th>90</th>\n",
       "      <td>8.540583e+18</td>\n",
       "      <td>3079.0</td>\n",
       "      <td>95.01</td>\n",
       "      <td>0.0</td>\n",
       "      <td>1.465291e+12</td>\n",
       "      <td>42.872045</td>\n",
       "      <td>-71.196195</td>\n",
       "      <td>3079</td>\n",
       "      <td>4.935318e+18</td>\n",
       "      <td>3109.0</td>\n",
       "      <td>129.57</td>\n",
       "      <td>1.465291e+12</td>\n",
       "      <td>42.970084</td>\n",
       "      <td>-71.405283</td>\n",
       "      <td>3109</td>\n",
       "      <td>10.904862</td>\n",
       "      <td>236638.0</td>\n",
       "      <td>1.580835</td>\n",
       "    </tr>\n",
       "    <tr>\n",
       "      <th>91</th>\n",
       "      <td>8.540583e+18</td>\n",
       "      <td>3079.0</td>\n",
       "      <td>95.01</td>\n",
       "      <td>0.0</td>\n",
       "      <td>1.465291e+12</td>\n",
       "      <td>42.872045</td>\n",
       "      <td>-71.196195</td>\n",
       "      <td>3079</td>\n",
       "      <td>5.416191e+18</td>\n",
       "      <td>3063.0</td>\n",
       "      <td>151.12</td>\n",
       "      <td>1.465291e+12</td>\n",
       "      <td>42.774427</td>\n",
       "      <td>-71.511111</td>\n",
       "      <td>3063</td>\n",
       "      <td>10.858034</td>\n",
       "      <td>150755.0</td>\n",
       "      <td>1.580835</td>\n",
       "    </tr>\n",
       "    <tr>\n",
       "      <th>92</th>\n",
       "      <td>8.540583e+18</td>\n",
       "      <td>3079.0</td>\n",
       "      <td>95.01</td>\n",
       "      <td>0.0</td>\n",
       "      <td>1.465291e+12</td>\n",
       "      <td>42.872045</td>\n",
       "      <td>-71.196195</td>\n",
       "      <td>3079</td>\n",
       "      <td>7.250209e+18</td>\n",
       "      <td>3102.0</td>\n",
       "      <td>76.59</td>\n",
       "      <td>1.465291e+12</td>\n",
       "      <td>43.007883</td>\n",
       "      <td>-71.494561</td>\n",
       "      <td>3102</td>\n",
       "      <td>15.109238</td>\n",
       "      <td>116021.0</td>\n",
       "      <td>1.580835</td>\n",
       "    </tr>\n",
       "    <tr>\n",
       "      <th>93</th>\n",
       "      <td>8.540583e+18</td>\n",
       "      <td>3079.0</td>\n",
       "      <td>95.01</td>\n",
       "      <td>0.0</td>\n",
       "      <td>1.465291e+12</td>\n",
       "      <td>42.872045</td>\n",
       "      <td>-71.196195</td>\n",
       "      <td>3079</td>\n",
       "      <td>5.798320e+18</td>\n",
       "      <td>3107.0</td>\n",
       "      <td>100.04</td>\n",
       "      <td>1.465291e+12</td>\n",
       "      <td>42.952124</td>\n",
       "      <td>-71.653939</td>\n",
       "      <td>3107</td>\n",
       "      <td>8.907174</td>\n",
       "      <td>13147.0</td>\n",
       "      <td>1.580835</td>\n",
       "    </tr>\n",
       "  </tbody>\n",
       "</table>\n",
       "</div>"
      ],
      "text/plain": [
       "          id_x_x  device_id_x  transaction_value_x  account_id   ts_millis_x  \\\n",
       "45  5.416191e+18       3063.0               151.12         0.0  1.465291e+12   \n",
       "60  7.250209e+18       3102.0                76.59         0.0  1.465291e+12   \n",
       "61  7.250209e+18       3102.0                76.59         0.0  1.465291e+12   \n",
       "75  5.798320e+18       3107.0               100.04         0.0  1.465291e+12   \n",
       "76  5.798320e+18       3107.0               100.04         0.0  1.465291e+12   \n",
       "77  5.798320e+18       3107.0               100.04         0.0  1.465291e+12   \n",
       "90  8.540583e+18       3079.0                95.01         0.0  1.465291e+12   \n",
       "91  8.540583e+18       3079.0                95.01         0.0  1.465291e+12   \n",
       "92  8.540583e+18       3079.0                95.01         0.0  1.465291e+12   \n",
       "93  8.540583e+18       3079.0                95.01         0.0  1.465291e+12   \n",
       "\n",
       "    latitude_x  longitude_x  zip_x        id_x_y  device_id_y  \\\n",
       "45   42.774427   -71.511111   3063  4.935318e+18       3109.0   \n",
       "60   43.007883   -71.494561   3102  4.935318e+18       3109.0   \n",
       "61   43.007883   -71.494561   3102  5.416191e+18       3063.0   \n",
       "75   42.952124   -71.653939   3107  4.935318e+18       3109.0   \n",
       "76   42.952124   -71.653939   3107  5.416191e+18       3063.0   \n",
       "77   42.952124   -71.653939   3107  7.250209e+18       3102.0   \n",
       "90   42.872045   -71.196195   3079  4.935318e+18       3109.0   \n",
       "91   42.872045   -71.196195   3079  5.416191e+18       3063.0   \n",
       "92   42.872045   -71.196195   3079  7.250209e+18       3102.0   \n",
       "93   42.872045   -71.196195   3079  5.798320e+18       3107.0   \n",
       "\n",
       "    transaction_value_y   ts_millis_y  latitude_y  longitude_y  zip_y  \\\n",
       "45               129.57  1.465291e+12   42.970084   -71.405283   3109   \n",
       "60               129.57  1.465291e+12   42.970084   -71.405283   3109   \n",
       "61               151.12  1.465291e+12   42.774427   -71.511111   3063   \n",
       "75               129.57  1.465291e+12   42.970084   -71.405283   3109   \n",
       "76               151.12  1.465291e+12   42.774427   -71.511111   3063   \n",
       "77                76.59  1.465291e+12   43.007883   -71.494561   3102   \n",
       "90               129.57  1.465291e+12   42.970084   -71.405283   3109   \n",
       "91               151.12  1.465291e+12   42.774427   -71.511111   3063   \n",
       "92                76.59  1.465291e+12   43.007883   -71.494561   3102   \n",
       "93               100.04  1.465291e+12   42.952124   -71.653939   3107   \n",
       "\n",
       "     distance  diff_first_second   average  \n",
       "45  21.762895            85883.0  1.580835  \n",
       "60   4.204376           120617.0  1.580835  \n",
       "61  25.967272            34734.0  1.580835  \n",
       "75   1.997688           223491.0  1.580835  \n",
       "76  19.765208           137608.0  1.580835  \n",
       "77   6.202064           102874.0  1.580835  \n",
       "90  10.904862           236638.0  1.580835  \n",
       "91  10.858034           150755.0  1.580835  \n",
       "92  15.109238           116021.0  1.580835  \n",
       "93   8.907174            13147.0  1.580835  "
      ]
     },
     "execution_count": 144,
     "metadata": {},
     "output_type": "execute_result"
    }
   ],
   "source": [
    "analysis_a.head(10)\n",
    "\n"
   ]
  },
  {
   "cell_type": "code",
   "execution_count": 145,
   "metadata": {
    "collapsed": false
   },
   "outputs": [
    {
     "data": {
      "text/html": [
       "<div>\n",
       "<table border=\"1\" class=\"dataframe\">\n",
       "  <thead>\n",
       "    <tr style=\"text-align: right;\">\n",
       "      <th></th>\n",
       "      <th>id_x_x</th>\n",
       "      <th>device_id_x</th>\n",
       "      <th>transaction_value_x</th>\n",
       "      <th>account_id</th>\n",
       "      <th>ts_millis_x</th>\n",
       "      <th>latitude_x</th>\n",
       "      <th>longitude_x</th>\n",
       "      <th>zip_x</th>\n",
       "      <th>id_x_y</th>\n",
       "      <th>device_id_y</th>\n",
       "      <th>transaction_value_y</th>\n",
       "      <th>ts_millis_y</th>\n",
       "      <th>latitude_y</th>\n",
       "      <th>longitude_y</th>\n",
       "      <th>zip_y</th>\n",
       "      <th>distance</th>\n",
       "      <th>diff_first_second</th>\n",
       "      <th>average</th>\n",
       "    </tr>\n",
       "  </thead>\n",
       "  <tbody>\n",
       "    <tr>\n",
       "      <th>45</th>\n",
       "      <td>5.416191e+18</td>\n",
       "      <td>3063.0</td>\n",
       "      <td>151.12</td>\n",
       "      <td>0.0</td>\n",
       "      <td>1.465291e+12</td>\n",
       "      <td>42.774427</td>\n",
       "      <td>-71.511111</td>\n",
       "      <td>3063</td>\n",
       "      <td>4.935318e+18</td>\n",
       "      <td>3109.0</td>\n",
       "      <td>129.57</td>\n",
       "      <td>1.465291e+12</td>\n",
       "      <td>42.970084</td>\n",
       "      <td>-71.405283</td>\n",
       "      <td>3109</td>\n",
       "      <td>21.762895</td>\n",
       "      <td>85883.0</td>\n",
       "      <td>1.580835</td>\n",
       "    </tr>\n",
       "    <tr>\n",
       "      <th>60</th>\n",
       "      <td>7.250209e+18</td>\n",
       "      <td>3102.0</td>\n",
       "      <td>76.59</td>\n",
       "      <td>0.0</td>\n",
       "      <td>1.465291e+12</td>\n",
       "      <td>43.007883</td>\n",
       "      <td>-71.494561</td>\n",
       "      <td>3102</td>\n",
       "      <td>4.935318e+18</td>\n",
       "      <td>3109.0</td>\n",
       "      <td>129.57</td>\n",
       "      <td>1.465291e+12</td>\n",
       "      <td>42.970084</td>\n",
       "      <td>-71.405283</td>\n",
       "      <td>3109</td>\n",
       "      <td>4.204376</td>\n",
       "      <td>120617.0</td>\n",
       "      <td>1.580835</td>\n",
       "    </tr>\n",
       "    <tr>\n",
       "      <th>61</th>\n",
       "      <td>7.250209e+18</td>\n",
       "      <td>3102.0</td>\n",
       "      <td>76.59</td>\n",
       "      <td>0.0</td>\n",
       "      <td>1.465291e+12</td>\n",
       "      <td>43.007883</td>\n",
       "      <td>-71.494561</td>\n",
       "      <td>3102</td>\n",
       "      <td>5.416191e+18</td>\n",
       "      <td>3063.0</td>\n",
       "      <td>151.12</td>\n",
       "      <td>1.465291e+12</td>\n",
       "      <td>42.774427</td>\n",
       "      <td>-71.511111</td>\n",
       "      <td>3063</td>\n",
       "      <td>25.967272</td>\n",
       "      <td>34734.0</td>\n",
       "      <td>1.580835</td>\n",
       "    </tr>\n",
       "    <tr>\n",
       "      <th>75</th>\n",
       "      <td>5.798320e+18</td>\n",
       "      <td>3107.0</td>\n",
       "      <td>100.04</td>\n",
       "      <td>0.0</td>\n",
       "      <td>1.465291e+12</td>\n",
       "      <td>42.952124</td>\n",
       "      <td>-71.653939</td>\n",
       "      <td>3107</td>\n",
       "      <td>4.935318e+18</td>\n",
       "      <td>3109.0</td>\n",
       "      <td>129.57</td>\n",
       "      <td>1.465291e+12</td>\n",
       "      <td>42.970084</td>\n",
       "      <td>-71.405283</td>\n",
       "      <td>3109</td>\n",
       "      <td>1.997688</td>\n",
       "      <td>223491.0</td>\n",
       "      <td>1.580835</td>\n",
       "    </tr>\n",
       "    <tr>\n",
       "      <th>76</th>\n",
       "      <td>5.798320e+18</td>\n",
       "      <td>3107.0</td>\n",
       "      <td>100.04</td>\n",
       "      <td>0.0</td>\n",
       "      <td>1.465291e+12</td>\n",
       "      <td>42.952124</td>\n",
       "      <td>-71.653939</td>\n",
       "      <td>3107</td>\n",
       "      <td>5.416191e+18</td>\n",
       "      <td>3063.0</td>\n",
       "      <td>151.12</td>\n",
       "      <td>1.465291e+12</td>\n",
       "      <td>42.774427</td>\n",
       "      <td>-71.511111</td>\n",
       "      <td>3063</td>\n",
       "      <td>19.765208</td>\n",
       "      <td>137608.0</td>\n",
       "      <td>1.580835</td>\n",
       "    </tr>\n",
       "    <tr>\n",
       "      <th>77</th>\n",
       "      <td>5.798320e+18</td>\n",
       "      <td>3107.0</td>\n",
       "      <td>100.04</td>\n",
       "      <td>0.0</td>\n",
       "      <td>1.465291e+12</td>\n",
       "      <td>42.952124</td>\n",
       "      <td>-71.653939</td>\n",
       "      <td>3107</td>\n",
       "      <td>7.250209e+18</td>\n",
       "      <td>3102.0</td>\n",
       "      <td>76.59</td>\n",
       "      <td>1.465291e+12</td>\n",
       "      <td>43.007883</td>\n",
       "      <td>-71.494561</td>\n",
       "      <td>3102</td>\n",
       "      <td>6.202064</td>\n",
       "      <td>102874.0</td>\n",
       "      <td>1.580835</td>\n",
       "    </tr>\n",
       "    <tr>\n",
       "      <th>90</th>\n",
       "      <td>8.540583e+18</td>\n",
       "      <td>3079.0</td>\n",
       "      <td>95.01</td>\n",
       "      <td>0.0</td>\n",
       "      <td>1.465291e+12</td>\n",
       "      <td>42.872045</td>\n",
       "      <td>-71.196195</td>\n",
       "      <td>3079</td>\n",
       "      <td>4.935318e+18</td>\n",
       "      <td>3109.0</td>\n",
       "      <td>129.57</td>\n",
       "      <td>1.465291e+12</td>\n",
       "      <td>42.970084</td>\n",
       "      <td>-71.405283</td>\n",
       "      <td>3109</td>\n",
       "      <td>10.904862</td>\n",
       "      <td>236638.0</td>\n",
       "      <td>1.580835</td>\n",
       "    </tr>\n",
       "    <tr>\n",
       "      <th>91</th>\n",
       "      <td>8.540583e+18</td>\n",
       "      <td>3079.0</td>\n",
       "      <td>95.01</td>\n",
       "      <td>0.0</td>\n",
       "      <td>1.465291e+12</td>\n",
       "      <td>42.872045</td>\n",
       "      <td>-71.196195</td>\n",
       "      <td>3079</td>\n",
       "      <td>5.416191e+18</td>\n",
       "      <td>3063.0</td>\n",
       "      <td>151.12</td>\n",
       "      <td>1.465291e+12</td>\n",
       "      <td>42.774427</td>\n",
       "      <td>-71.511111</td>\n",
       "      <td>3063</td>\n",
       "      <td>10.858034</td>\n",
       "      <td>150755.0</td>\n",
       "      <td>1.580835</td>\n",
       "    </tr>\n",
       "    <tr>\n",
       "      <th>92</th>\n",
       "      <td>8.540583e+18</td>\n",
       "      <td>3079.0</td>\n",
       "      <td>95.01</td>\n",
       "      <td>0.0</td>\n",
       "      <td>1.465291e+12</td>\n",
       "      <td>42.872045</td>\n",
       "      <td>-71.196195</td>\n",
       "      <td>3079</td>\n",
       "      <td>7.250209e+18</td>\n",
       "      <td>3102.0</td>\n",
       "      <td>76.59</td>\n",
       "      <td>1.465291e+12</td>\n",
       "      <td>43.007883</td>\n",
       "      <td>-71.494561</td>\n",
       "      <td>3102</td>\n",
       "      <td>15.109238</td>\n",
       "      <td>116021.0</td>\n",
       "      <td>1.580835</td>\n",
       "    </tr>\n",
       "    <tr>\n",
       "      <th>93</th>\n",
       "      <td>8.540583e+18</td>\n",
       "      <td>3079.0</td>\n",
       "      <td>95.01</td>\n",
       "      <td>0.0</td>\n",
       "      <td>1.465291e+12</td>\n",
       "      <td>42.872045</td>\n",
       "      <td>-71.196195</td>\n",
       "      <td>3079</td>\n",
       "      <td>5.798320e+18</td>\n",
       "      <td>3107.0</td>\n",
       "      <td>100.04</td>\n",
       "      <td>1.465291e+12</td>\n",
       "      <td>42.952124</td>\n",
       "      <td>-71.653939</td>\n",
       "      <td>3107</td>\n",
       "      <td>8.907174</td>\n",
       "      <td>13147.0</td>\n",
       "      <td>1.580835</td>\n",
       "    </tr>\n",
       "  </tbody>\n",
       "</table>\n",
       "</div>"
      ],
      "text/plain": [
       "          id_x_x  device_id_x  transaction_value_x  account_id   ts_millis_x  \\\n",
       "45  5.416191e+18       3063.0               151.12         0.0  1.465291e+12   \n",
       "60  7.250209e+18       3102.0                76.59         0.0  1.465291e+12   \n",
       "61  7.250209e+18       3102.0                76.59         0.0  1.465291e+12   \n",
       "75  5.798320e+18       3107.0               100.04         0.0  1.465291e+12   \n",
       "76  5.798320e+18       3107.0               100.04         0.0  1.465291e+12   \n",
       "77  5.798320e+18       3107.0               100.04         0.0  1.465291e+12   \n",
       "90  8.540583e+18       3079.0                95.01         0.0  1.465291e+12   \n",
       "91  8.540583e+18       3079.0                95.01         0.0  1.465291e+12   \n",
       "92  8.540583e+18       3079.0                95.01         0.0  1.465291e+12   \n",
       "93  8.540583e+18       3079.0                95.01         0.0  1.465291e+12   \n",
       "\n",
       "    latitude_x  longitude_x  zip_x        id_x_y  device_id_y  \\\n",
       "45   42.774427   -71.511111   3063  4.935318e+18       3109.0   \n",
       "60   43.007883   -71.494561   3102  4.935318e+18       3109.0   \n",
       "61   43.007883   -71.494561   3102  5.416191e+18       3063.0   \n",
       "75   42.952124   -71.653939   3107  4.935318e+18       3109.0   \n",
       "76   42.952124   -71.653939   3107  5.416191e+18       3063.0   \n",
       "77   42.952124   -71.653939   3107  7.250209e+18       3102.0   \n",
       "90   42.872045   -71.196195   3079  4.935318e+18       3109.0   \n",
       "91   42.872045   -71.196195   3079  5.416191e+18       3063.0   \n",
       "92   42.872045   -71.196195   3079  7.250209e+18       3102.0   \n",
       "93   42.872045   -71.196195   3079  5.798320e+18       3107.0   \n",
       "\n",
       "    transaction_value_y   ts_millis_y  latitude_y  longitude_y  zip_y  \\\n",
       "45               129.57  1.465291e+12   42.970084   -71.405283   3109   \n",
       "60               129.57  1.465291e+12   42.970084   -71.405283   3109   \n",
       "61               151.12  1.465291e+12   42.774427   -71.511111   3063   \n",
       "75               129.57  1.465291e+12   42.970084   -71.405283   3109   \n",
       "76               151.12  1.465291e+12   42.774427   -71.511111   3063   \n",
       "77                76.59  1.465291e+12   43.007883   -71.494561   3102   \n",
       "90               129.57  1.465291e+12   42.970084   -71.405283   3109   \n",
       "91               151.12  1.465291e+12   42.774427   -71.511111   3063   \n",
       "92                76.59  1.465291e+12   43.007883   -71.494561   3102   \n",
       "93               100.04  1.465291e+12   42.952124   -71.653939   3107   \n",
       "\n",
       "     distance  diff_first_second   average  \n",
       "45  21.762895            85883.0  1.580835  \n",
       "60   4.204376           120617.0  1.580835  \n",
       "61  25.967272            34734.0  1.580835  \n",
       "75   1.997688           223491.0  1.580835  \n",
       "76  19.765208           137608.0  1.580835  \n",
       "77   6.202064           102874.0  1.580835  \n",
       "90  10.904862           236638.0  1.580835  \n",
       "91  10.858034           150755.0  1.580835  \n",
       "92  15.109238           116021.0  1.580835  \n",
       "93   8.907174            13147.0  1.580835  "
      ]
     },
     "execution_count": 145,
     "metadata": {},
     "output_type": "execute_result"
    }
   ],
   "source": [
    "analysis_a[(analysis_a.distance)==(analysis_a.distance)].head(10)\n",
    "\n"
   ]
  },
  {
   "cell_type": "code",
   "execution_count": 146,
   "metadata": {
    "collapsed": false
   },
   "outputs": [
    {
     "data": {
      "text/html": [
       "<div>\n",
       "<table border=\"1\" class=\"dataframe\">\n",
       "  <thead>\n",
       "    <tr style=\"text-align: right;\">\n",
       "      <th></th>\n",
       "      <th>id_x_x</th>\n",
       "      <th>device_id_x</th>\n",
       "      <th>transaction_value_x</th>\n",
       "      <th>account_id</th>\n",
       "      <th>ts_millis_x</th>\n",
       "      <th>latitude_x</th>\n",
       "      <th>longitude_x</th>\n",
       "      <th>zip_x</th>\n",
       "      <th>id_x_y</th>\n",
       "      <th>device_id_y</th>\n",
       "      <th>transaction_value_y</th>\n",
       "      <th>ts_millis_y</th>\n",
       "      <th>latitude_y</th>\n",
       "      <th>longitude_y</th>\n",
       "      <th>zip_y</th>\n",
       "      <th>distance</th>\n",
       "      <th>diff_first_second</th>\n",
       "      <th>average</th>\n",
       "    </tr>\n",
       "  </thead>\n",
       "  <tbody>\n",
       "    <tr>\n",
       "      <th>45</th>\n",
       "      <td>5.416191e+18</td>\n",
       "      <td>3063.0</td>\n",
       "      <td>151.12</td>\n",
       "      <td>0.0</td>\n",
       "      <td>1.465291e+12</td>\n",
       "      <td>42.774427</td>\n",
       "      <td>-71.511111</td>\n",
       "      <td>3063</td>\n",
       "      <td>4.935318e+18</td>\n",
       "      <td>3109.0</td>\n",
       "      <td>129.57</td>\n",
       "      <td>1.465291e+12</td>\n",
       "      <td>42.970084</td>\n",
       "      <td>-71.405283</td>\n",
       "      <td>3109</td>\n",
       "      <td>21.762895</td>\n",
       "      <td>85883.0</td>\n",
       "      <td>1.580835</td>\n",
       "    </tr>\n",
       "    <tr>\n",
       "      <th>60</th>\n",
       "      <td>7.250209e+18</td>\n",
       "      <td>3102.0</td>\n",
       "      <td>76.59</td>\n",
       "      <td>0.0</td>\n",
       "      <td>1.465291e+12</td>\n",
       "      <td>43.007883</td>\n",
       "      <td>-71.494561</td>\n",
       "      <td>3102</td>\n",
       "      <td>4.935318e+18</td>\n",
       "      <td>3109.0</td>\n",
       "      <td>129.57</td>\n",
       "      <td>1.465291e+12</td>\n",
       "      <td>42.970084</td>\n",
       "      <td>-71.405283</td>\n",
       "      <td>3109</td>\n",
       "      <td>4.204376</td>\n",
       "      <td>120617.0</td>\n",
       "      <td>1.580835</td>\n",
       "    </tr>\n",
       "    <tr>\n",
       "      <th>61</th>\n",
       "      <td>7.250209e+18</td>\n",
       "      <td>3102.0</td>\n",
       "      <td>76.59</td>\n",
       "      <td>0.0</td>\n",
       "      <td>1.465291e+12</td>\n",
       "      <td>43.007883</td>\n",
       "      <td>-71.494561</td>\n",
       "      <td>3102</td>\n",
       "      <td>5.416191e+18</td>\n",
       "      <td>3063.0</td>\n",
       "      <td>151.12</td>\n",
       "      <td>1.465291e+12</td>\n",
       "      <td>42.774427</td>\n",
       "      <td>-71.511111</td>\n",
       "      <td>3063</td>\n",
       "      <td>25.967272</td>\n",
       "      <td>34734.0</td>\n",
       "      <td>1.580835</td>\n",
       "    </tr>\n",
       "    <tr>\n",
       "      <th>75</th>\n",
       "      <td>5.798320e+18</td>\n",
       "      <td>3107.0</td>\n",
       "      <td>100.04</td>\n",
       "      <td>0.0</td>\n",
       "      <td>1.465291e+12</td>\n",
       "      <td>42.952124</td>\n",
       "      <td>-71.653939</td>\n",
       "      <td>3107</td>\n",
       "      <td>4.935318e+18</td>\n",
       "      <td>3109.0</td>\n",
       "      <td>129.57</td>\n",
       "      <td>1.465291e+12</td>\n",
       "      <td>42.970084</td>\n",
       "      <td>-71.405283</td>\n",
       "      <td>3109</td>\n",
       "      <td>1.997688</td>\n",
       "      <td>223491.0</td>\n",
       "      <td>1.580835</td>\n",
       "    </tr>\n",
       "    <tr>\n",
       "      <th>76</th>\n",
       "      <td>5.798320e+18</td>\n",
       "      <td>3107.0</td>\n",
       "      <td>100.04</td>\n",
       "      <td>0.0</td>\n",
       "      <td>1.465291e+12</td>\n",
       "      <td>42.952124</td>\n",
       "      <td>-71.653939</td>\n",
       "      <td>3107</td>\n",
       "      <td>5.416191e+18</td>\n",
       "      <td>3063.0</td>\n",
       "      <td>151.12</td>\n",
       "      <td>1.465291e+12</td>\n",
       "      <td>42.774427</td>\n",
       "      <td>-71.511111</td>\n",
       "      <td>3063</td>\n",
       "      <td>19.765208</td>\n",
       "      <td>137608.0</td>\n",
       "      <td>1.580835</td>\n",
       "    </tr>\n",
       "  </tbody>\n",
       "</table>\n",
       "</div>"
      ],
      "text/plain": [
       "          id_x_x  device_id_x  transaction_value_x  account_id   ts_millis_x  \\\n",
       "45  5.416191e+18       3063.0               151.12         0.0  1.465291e+12   \n",
       "60  7.250209e+18       3102.0                76.59         0.0  1.465291e+12   \n",
       "61  7.250209e+18       3102.0                76.59         0.0  1.465291e+12   \n",
       "75  5.798320e+18       3107.0               100.04         0.0  1.465291e+12   \n",
       "76  5.798320e+18       3107.0               100.04         0.0  1.465291e+12   \n",
       "\n",
       "    latitude_x  longitude_x  zip_x        id_x_y  device_id_y  \\\n",
       "45   42.774427   -71.511111   3063  4.935318e+18       3109.0   \n",
       "60   43.007883   -71.494561   3102  4.935318e+18       3109.0   \n",
       "61   43.007883   -71.494561   3102  5.416191e+18       3063.0   \n",
       "75   42.952124   -71.653939   3107  4.935318e+18       3109.0   \n",
       "76   42.952124   -71.653939   3107  5.416191e+18       3063.0   \n",
       "\n",
       "    transaction_value_y   ts_millis_y  latitude_y  longitude_y  zip_y  \\\n",
       "45               129.57  1.465291e+12   42.970084   -71.405283   3109   \n",
       "60               129.57  1.465291e+12   42.970084   -71.405283   3109   \n",
       "61               151.12  1.465291e+12   42.774427   -71.511111   3063   \n",
       "75               129.57  1.465291e+12   42.970084   -71.405283   3109   \n",
       "76               151.12  1.465291e+12   42.774427   -71.511111   3063   \n",
       "\n",
       "     distance  diff_first_second   average  \n",
       "45  21.762895            85883.0  1.580835  \n",
       "60   4.204376           120617.0  1.580835  \n",
       "61  25.967272            34734.0  1.580835  \n",
       "75   1.997688           223491.0  1.580835  \n",
       "76  19.765208           137608.0  1.580835  "
      ]
     },
     "execution_count": 146,
     "metadata": {},
     "output_type": "execute_result"
    }
   ],
   "source": [
    "analysis_a.head()"
   ]
  },
  {
   "cell_type": "code",
   "execution_count": 150,
   "metadata": {
    "collapsed": false
   },
   "outputs": [
    {
     "name": "stderr",
     "output_type": "stream",
     "text": [
      "/Users/vishnoiprem/anaconda/lib/python3.5/site-packages/ipykernel/__main__.py:10: SettingWithCopyWarning: \n",
      "A value is trying to be set on a copy of a slice from a DataFrame.\n",
      "Try using .loc[row_indexer,col_indexer] = value instead\n",
      "\n",
      "See the caveats in the documentation: http://pandas.pydata.org/pandas-docs/stable/indexing.html#indexing-view-versus-copy\n"
     ]
    },
    {
     "data": {
      "text/html": [
       "<div>\n",
       "<table border=\"1\" class=\"dataframe\">\n",
       "  <thead>\n",
       "    <tr style=\"text-align: right;\">\n",
       "      <th></th>\n",
       "      <th>id_x_x</th>\n",
       "      <th>device_id_x</th>\n",
       "      <th>transaction_value_x</th>\n",
       "      <th>account_id</th>\n",
       "      <th>ts_millis_x</th>\n",
       "      <th>latitude_x</th>\n",
       "      <th>longitude_x</th>\n",
       "      <th>zip_x</th>\n",
       "      <th>id_x_y</th>\n",
       "      <th>device_id_y</th>\n",
       "      <th>transaction_value_y</th>\n",
       "      <th>ts_millis_y</th>\n",
       "      <th>latitude_y</th>\n",
       "      <th>longitude_y</th>\n",
       "      <th>zip_y</th>\n",
       "      <th>distance</th>\n",
       "      <th>diff_first_second</th>\n",
       "      <th>average</th>\n",
       "      <th>fraud</th>\n",
       "    </tr>\n",
       "  </thead>\n",
       "  <tbody>\n",
       "    <tr>\n",
       "      <th>45</th>\n",
       "      <td>5.416191e+18</td>\n",
       "      <td>3063.0</td>\n",
       "      <td>151.12</td>\n",
       "      <td>0.0</td>\n",
       "      <td>1.465291e+12</td>\n",
       "      <td>42.774427</td>\n",
       "      <td>-71.511111</td>\n",
       "      <td>3063</td>\n",
       "      <td>4.935318e+18</td>\n",
       "      <td>3109.0</td>\n",
       "      <td>129.57</td>\n",
       "      <td>1.465291e+12</td>\n",
       "      <td>42.970084</td>\n",
       "      <td>-71.405283</td>\n",
       "      <td>3109</td>\n",
       "      <td>21.762895</td>\n",
       "      <td>85883.0</td>\n",
       "      <td>1.580835</td>\n",
       "      <td>0</td>\n",
       "    </tr>\n",
       "    <tr>\n",
       "      <th>60</th>\n",
       "      <td>7.250209e+18</td>\n",
       "      <td>3102.0</td>\n",
       "      <td>76.59</td>\n",
       "      <td>0.0</td>\n",
       "      <td>1.465291e+12</td>\n",
       "      <td>43.007883</td>\n",
       "      <td>-71.494561</td>\n",
       "      <td>3102</td>\n",
       "      <td>4.935318e+18</td>\n",
       "      <td>3109.0</td>\n",
       "      <td>129.57</td>\n",
       "      <td>1.465291e+12</td>\n",
       "      <td>42.970084</td>\n",
       "      <td>-71.405283</td>\n",
       "      <td>3109</td>\n",
       "      <td>4.204376</td>\n",
       "      <td>120617.0</td>\n",
       "      <td>1.580835</td>\n",
       "      <td>0</td>\n",
       "    </tr>\n",
       "    <tr>\n",
       "      <th>61</th>\n",
       "      <td>7.250209e+18</td>\n",
       "      <td>3102.0</td>\n",
       "      <td>76.59</td>\n",
       "      <td>0.0</td>\n",
       "      <td>1.465291e+12</td>\n",
       "      <td>43.007883</td>\n",
       "      <td>-71.494561</td>\n",
       "      <td>3102</td>\n",
       "      <td>5.416191e+18</td>\n",
       "      <td>3063.0</td>\n",
       "      <td>151.12</td>\n",
       "      <td>1.465291e+12</td>\n",
       "      <td>42.774427</td>\n",
       "      <td>-71.511111</td>\n",
       "      <td>3063</td>\n",
       "      <td>25.967272</td>\n",
       "      <td>34734.0</td>\n",
       "      <td>1.580835</td>\n",
       "      <td>0</td>\n",
       "    </tr>\n",
       "    <tr>\n",
       "      <th>75</th>\n",
       "      <td>5.798320e+18</td>\n",
       "      <td>3107.0</td>\n",
       "      <td>100.04</td>\n",
       "      <td>0.0</td>\n",
       "      <td>1.465291e+12</td>\n",
       "      <td>42.952124</td>\n",
       "      <td>-71.653939</td>\n",
       "      <td>3107</td>\n",
       "      <td>4.935318e+18</td>\n",
       "      <td>3109.0</td>\n",
       "      <td>129.57</td>\n",
       "      <td>1.465291e+12</td>\n",
       "      <td>42.970084</td>\n",
       "      <td>-71.405283</td>\n",
       "      <td>3109</td>\n",
       "      <td>1.997688</td>\n",
       "      <td>223491.0</td>\n",
       "      <td>1.580835</td>\n",
       "      <td>0</td>\n",
       "    </tr>\n",
       "    <tr>\n",
       "      <th>76</th>\n",
       "      <td>5.798320e+18</td>\n",
       "      <td>3107.0</td>\n",
       "      <td>100.04</td>\n",
       "      <td>0.0</td>\n",
       "      <td>1.465291e+12</td>\n",
       "      <td>42.952124</td>\n",
       "      <td>-71.653939</td>\n",
       "      <td>3107</td>\n",
       "      <td>5.416191e+18</td>\n",
       "      <td>3063.0</td>\n",
       "      <td>151.12</td>\n",
       "      <td>1.465291e+12</td>\n",
       "      <td>42.774427</td>\n",
       "      <td>-71.511111</td>\n",
       "      <td>3063</td>\n",
       "      <td>19.765208</td>\n",
       "      <td>137608.0</td>\n",
       "      <td>1.580835</td>\n",
       "      <td>0</td>\n",
       "    </tr>\n",
       "    <tr>\n",
       "      <th>77</th>\n",
       "      <td>5.798320e+18</td>\n",
       "      <td>3107.0</td>\n",
       "      <td>100.04</td>\n",
       "      <td>0.0</td>\n",
       "      <td>1.465291e+12</td>\n",
       "      <td>42.952124</td>\n",
       "      <td>-71.653939</td>\n",
       "      <td>3107</td>\n",
       "      <td>7.250209e+18</td>\n",
       "      <td>3102.0</td>\n",
       "      <td>76.59</td>\n",
       "      <td>1.465291e+12</td>\n",
       "      <td>43.007883</td>\n",
       "      <td>-71.494561</td>\n",
       "      <td>3102</td>\n",
       "      <td>6.202064</td>\n",
       "      <td>102874.0</td>\n",
       "      <td>1.580835</td>\n",
       "      <td>0</td>\n",
       "    </tr>\n",
       "    <tr>\n",
       "      <th>90</th>\n",
       "      <td>8.540583e+18</td>\n",
       "      <td>3079.0</td>\n",
       "      <td>95.01</td>\n",
       "      <td>0.0</td>\n",
       "      <td>1.465291e+12</td>\n",
       "      <td>42.872045</td>\n",
       "      <td>-71.196195</td>\n",
       "      <td>3079</td>\n",
       "      <td>4.935318e+18</td>\n",
       "      <td>3109.0</td>\n",
       "      <td>129.57</td>\n",
       "      <td>1.465291e+12</td>\n",
       "      <td>42.970084</td>\n",
       "      <td>-71.405283</td>\n",
       "      <td>3109</td>\n",
       "      <td>10.904862</td>\n",
       "      <td>236638.0</td>\n",
       "      <td>1.580835</td>\n",
       "      <td>0</td>\n",
       "    </tr>\n",
       "    <tr>\n",
       "      <th>91</th>\n",
       "      <td>8.540583e+18</td>\n",
       "      <td>3079.0</td>\n",
       "      <td>95.01</td>\n",
       "      <td>0.0</td>\n",
       "      <td>1.465291e+12</td>\n",
       "      <td>42.872045</td>\n",
       "      <td>-71.196195</td>\n",
       "      <td>3079</td>\n",
       "      <td>5.416191e+18</td>\n",
       "      <td>3063.0</td>\n",
       "      <td>151.12</td>\n",
       "      <td>1.465291e+12</td>\n",
       "      <td>42.774427</td>\n",
       "      <td>-71.511111</td>\n",
       "      <td>3063</td>\n",
       "      <td>10.858034</td>\n",
       "      <td>150755.0</td>\n",
       "      <td>1.580835</td>\n",
       "      <td>0</td>\n",
       "    </tr>\n",
       "    <tr>\n",
       "      <th>92</th>\n",
       "      <td>8.540583e+18</td>\n",
       "      <td>3079.0</td>\n",
       "      <td>95.01</td>\n",
       "      <td>0.0</td>\n",
       "      <td>1.465291e+12</td>\n",
       "      <td>42.872045</td>\n",
       "      <td>-71.196195</td>\n",
       "      <td>3079</td>\n",
       "      <td>7.250209e+18</td>\n",
       "      <td>3102.0</td>\n",
       "      <td>76.59</td>\n",
       "      <td>1.465291e+12</td>\n",
       "      <td>43.007883</td>\n",
       "      <td>-71.494561</td>\n",
       "      <td>3102</td>\n",
       "      <td>15.109238</td>\n",
       "      <td>116021.0</td>\n",
       "      <td>1.580835</td>\n",
       "      <td>0</td>\n",
       "    </tr>\n",
       "    <tr>\n",
       "      <th>93</th>\n",
       "      <td>8.540583e+18</td>\n",
       "      <td>3079.0</td>\n",
       "      <td>95.01</td>\n",
       "      <td>0.0</td>\n",
       "      <td>1.465291e+12</td>\n",
       "      <td>42.872045</td>\n",
       "      <td>-71.196195</td>\n",
       "      <td>3079</td>\n",
       "      <td>5.798320e+18</td>\n",
       "      <td>3107.0</td>\n",
       "      <td>100.04</td>\n",
       "      <td>1.465291e+12</td>\n",
       "      <td>42.952124</td>\n",
       "      <td>-71.653939</td>\n",
       "      <td>3107</td>\n",
       "      <td>8.907174</td>\n",
       "      <td>13147.0</td>\n",
       "      <td>1.580835</td>\n",
       "      <td>0</td>\n",
       "    </tr>\n",
       "  </tbody>\n",
       "</table>\n",
       "</div>"
      ],
      "text/plain": [
       "          id_x_x  device_id_x  transaction_value_x  account_id   ts_millis_x  \\\n",
       "45  5.416191e+18       3063.0               151.12         0.0  1.465291e+12   \n",
       "60  7.250209e+18       3102.0                76.59         0.0  1.465291e+12   \n",
       "61  7.250209e+18       3102.0                76.59         0.0  1.465291e+12   \n",
       "75  5.798320e+18       3107.0               100.04         0.0  1.465291e+12   \n",
       "76  5.798320e+18       3107.0               100.04         0.0  1.465291e+12   \n",
       "77  5.798320e+18       3107.0               100.04         0.0  1.465291e+12   \n",
       "90  8.540583e+18       3079.0                95.01         0.0  1.465291e+12   \n",
       "91  8.540583e+18       3079.0                95.01         0.0  1.465291e+12   \n",
       "92  8.540583e+18       3079.0                95.01         0.0  1.465291e+12   \n",
       "93  8.540583e+18       3079.0                95.01         0.0  1.465291e+12   \n",
       "\n",
       "    latitude_x  longitude_x  zip_x        id_x_y  device_id_y  \\\n",
       "45   42.774427   -71.511111   3063  4.935318e+18       3109.0   \n",
       "60   43.007883   -71.494561   3102  4.935318e+18       3109.0   \n",
       "61   43.007883   -71.494561   3102  5.416191e+18       3063.0   \n",
       "75   42.952124   -71.653939   3107  4.935318e+18       3109.0   \n",
       "76   42.952124   -71.653939   3107  5.416191e+18       3063.0   \n",
       "77   42.952124   -71.653939   3107  7.250209e+18       3102.0   \n",
       "90   42.872045   -71.196195   3079  4.935318e+18       3109.0   \n",
       "91   42.872045   -71.196195   3079  5.416191e+18       3063.0   \n",
       "92   42.872045   -71.196195   3079  7.250209e+18       3102.0   \n",
       "93   42.872045   -71.196195   3079  5.798320e+18       3107.0   \n",
       "\n",
       "    transaction_value_y   ts_millis_y  latitude_y  longitude_y  zip_y  \\\n",
       "45               129.57  1.465291e+12   42.970084   -71.405283   3109   \n",
       "60               129.57  1.465291e+12   42.970084   -71.405283   3109   \n",
       "61               151.12  1.465291e+12   42.774427   -71.511111   3063   \n",
       "75               129.57  1.465291e+12   42.970084   -71.405283   3109   \n",
       "76               151.12  1.465291e+12   42.774427   -71.511111   3063   \n",
       "77                76.59  1.465291e+12   43.007883   -71.494561   3102   \n",
       "90               129.57  1.465291e+12   42.970084   -71.405283   3109   \n",
       "91               151.12  1.465291e+12   42.774427   -71.511111   3063   \n",
       "92                76.59  1.465291e+12   43.007883   -71.494561   3102   \n",
       "93               100.04  1.465291e+12   42.952124   -71.653939   3107   \n",
       "\n",
       "     distance  diff_first_second   average  fraud  \n",
       "45  21.762895            85883.0  1.580835      0  \n",
       "60   4.204376           120617.0  1.580835      0  \n",
       "61  25.967272            34734.0  1.580835      0  \n",
       "75   1.997688           223491.0  1.580835      0  \n",
       "76  19.765208           137608.0  1.580835      0  \n",
       "77   6.202064           102874.0  1.580835      0  \n",
       "90  10.904862           236638.0  1.580835      0  \n",
       "91  10.858034           150755.0  1.580835      0  \n",
       "92  15.109238           116021.0  1.580835      0  \n",
       "93   8.907174            13147.0  1.580835      0  "
      ]
     },
     "execution_count": 150,
     "metadata": {},
     "output_type": "execute_result"
    }
   ],
   "source": [
    "def fraud(analysis_a):\n",
    "    diff = analysis_a['average'] \n",
    "    diff_in_sec=analysis_a['diff_first_second']/1000\n",
    "    if diff>0 and diff_in_sec>1000:\n",
    "        return 1\n",
    "    elif diff/diff_in_sec>=100:\n",
    "        return 1\n",
    "    else:\n",
    "        return 0\n",
    "analysis_a['fraud']=analysis_a.apply(fraud,axis = 1)\n",
    "\n",
    "\n",
    "analysis_a.head(10)"
   ]
  },
  {
   "cell_type": "code",
   "execution_count": 151,
   "metadata": {
    "collapsed": false
   },
   "outputs": [
    {
     "data": {
      "text/html": [
       "<div>\n",
       "<table border=\"1\" class=\"dataframe\">\n",
       "  <thead>\n",
       "    <tr style=\"text-align: right;\">\n",
       "      <th></th>\n",
       "      <th>id_x_x</th>\n",
       "      <th>device_id_x</th>\n",
       "      <th>transaction_value_x</th>\n",
       "      <th>account_id</th>\n",
       "      <th>ts_millis_x</th>\n",
       "      <th>latitude_x</th>\n",
       "      <th>longitude_x</th>\n",
       "      <th>zip_x</th>\n",
       "      <th>id_x_y</th>\n",
       "      <th>device_id_y</th>\n",
       "      <th>transaction_value_y</th>\n",
       "      <th>ts_millis_y</th>\n",
       "      <th>latitude_y</th>\n",
       "      <th>longitude_y</th>\n",
       "      <th>zip_y</th>\n",
       "      <th>distance</th>\n",
       "      <th>diff_first_second</th>\n",
       "      <th>average</th>\n",
       "      <th>fraud</th>\n",
       "    </tr>\n",
       "  </thead>\n",
       "  <tbody>\n",
       "    <tr>\n",
       "      <th>45</th>\n",
       "      <td>5.416191e+18</td>\n",
       "      <td>3063.0</td>\n",
       "      <td>151.12</td>\n",
       "      <td>0.0</td>\n",
       "      <td>1.465291e+12</td>\n",
       "      <td>42.774427</td>\n",
       "      <td>-71.511111</td>\n",
       "      <td>3063</td>\n",
       "      <td>4.935318e+18</td>\n",
       "      <td>3109.0</td>\n",
       "      <td>129.57</td>\n",
       "      <td>1.465291e+12</td>\n",
       "      <td>42.970084</td>\n",
       "      <td>-71.405283</td>\n",
       "      <td>3109</td>\n",
       "      <td>21.762895</td>\n",
       "      <td>85883.0</td>\n",
       "      <td>1.580835</td>\n",
       "      <td>0</td>\n",
       "    </tr>\n",
       "    <tr>\n",
       "      <th>60</th>\n",
       "      <td>7.250209e+18</td>\n",
       "      <td>3102.0</td>\n",
       "      <td>76.59</td>\n",
       "      <td>0.0</td>\n",
       "      <td>1.465291e+12</td>\n",
       "      <td>43.007883</td>\n",
       "      <td>-71.494561</td>\n",
       "      <td>3102</td>\n",
       "      <td>4.935318e+18</td>\n",
       "      <td>3109.0</td>\n",
       "      <td>129.57</td>\n",
       "      <td>1.465291e+12</td>\n",
       "      <td>42.970084</td>\n",
       "      <td>-71.405283</td>\n",
       "      <td>3109</td>\n",
       "      <td>4.204376</td>\n",
       "      <td>120617.0</td>\n",
       "      <td>1.580835</td>\n",
       "      <td>0</td>\n",
       "    </tr>\n",
       "    <tr>\n",
       "      <th>61</th>\n",
       "      <td>7.250209e+18</td>\n",
       "      <td>3102.0</td>\n",
       "      <td>76.59</td>\n",
       "      <td>0.0</td>\n",
       "      <td>1.465291e+12</td>\n",
       "      <td>43.007883</td>\n",
       "      <td>-71.494561</td>\n",
       "      <td>3102</td>\n",
       "      <td>5.416191e+18</td>\n",
       "      <td>3063.0</td>\n",
       "      <td>151.12</td>\n",
       "      <td>1.465291e+12</td>\n",
       "      <td>42.774427</td>\n",
       "      <td>-71.511111</td>\n",
       "      <td>3063</td>\n",
       "      <td>25.967272</td>\n",
       "      <td>34734.0</td>\n",
       "      <td>1.580835</td>\n",
       "      <td>0</td>\n",
       "    </tr>\n",
       "    <tr>\n",
       "      <th>75</th>\n",
       "      <td>5.798320e+18</td>\n",
       "      <td>3107.0</td>\n",
       "      <td>100.04</td>\n",
       "      <td>0.0</td>\n",
       "      <td>1.465291e+12</td>\n",
       "      <td>42.952124</td>\n",
       "      <td>-71.653939</td>\n",
       "      <td>3107</td>\n",
       "      <td>4.935318e+18</td>\n",
       "      <td>3109.0</td>\n",
       "      <td>129.57</td>\n",
       "      <td>1.465291e+12</td>\n",
       "      <td>42.970084</td>\n",
       "      <td>-71.405283</td>\n",
       "      <td>3109</td>\n",
       "      <td>1.997688</td>\n",
       "      <td>223491.0</td>\n",
       "      <td>1.580835</td>\n",
       "      <td>0</td>\n",
       "    </tr>\n",
       "    <tr>\n",
       "      <th>76</th>\n",
       "      <td>5.798320e+18</td>\n",
       "      <td>3107.0</td>\n",
       "      <td>100.04</td>\n",
       "      <td>0.0</td>\n",
       "      <td>1.465291e+12</td>\n",
       "      <td>42.952124</td>\n",
       "      <td>-71.653939</td>\n",
       "      <td>3107</td>\n",
       "      <td>5.416191e+18</td>\n",
       "      <td>3063.0</td>\n",
       "      <td>151.12</td>\n",
       "      <td>1.465291e+12</td>\n",
       "      <td>42.774427</td>\n",
       "      <td>-71.511111</td>\n",
       "      <td>3063</td>\n",
       "      <td>19.765208</td>\n",
       "      <td>137608.0</td>\n",
       "      <td>1.580835</td>\n",
       "      <td>0</td>\n",
       "    </tr>\n",
       "  </tbody>\n",
       "</table>\n",
       "</div>"
      ],
      "text/plain": [
       "          id_x_x  device_id_x  transaction_value_x  account_id   ts_millis_x  \\\n",
       "45  5.416191e+18       3063.0               151.12         0.0  1.465291e+12   \n",
       "60  7.250209e+18       3102.0                76.59         0.0  1.465291e+12   \n",
       "61  7.250209e+18       3102.0                76.59         0.0  1.465291e+12   \n",
       "75  5.798320e+18       3107.0               100.04         0.0  1.465291e+12   \n",
       "76  5.798320e+18       3107.0               100.04         0.0  1.465291e+12   \n",
       "\n",
       "    latitude_x  longitude_x  zip_x        id_x_y  device_id_y  \\\n",
       "45   42.774427   -71.511111   3063  4.935318e+18       3109.0   \n",
       "60   43.007883   -71.494561   3102  4.935318e+18       3109.0   \n",
       "61   43.007883   -71.494561   3102  5.416191e+18       3063.0   \n",
       "75   42.952124   -71.653939   3107  4.935318e+18       3109.0   \n",
       "76   42.952124   -71.653939   3107  5.416191e+18       3063.0   \n",
       "\n",
       "    transaction_value_y   ts_millis_y  latitude_y  longitude_y  zip_y  \\\n",
       "45               129.57  1.465291e+12   42.970084   -71.405283   3109   \n",
       "60               129.57  1.465291e+12   42.970084   -71.405283   3109   \n",
       "61               151.12  1.465291e+12   42.774427   -71.511111   3063   \n",
       "75               129.57  1.465291e+12   42.970084   -71.405283   3109   \n",
       "76               151.12  1.465291e+12   42.774427   -71.511111   3063   \n",
       "\n",
       "     distance  diff_first_second   average  fraud  \n",
       "45  21.762895            85883.0  1.580835      0  \n",
       "60   4.204376           120617.0  1.580835      0  \n",
       "61  25.967272            34734.0  1.580835      0  \n",
       "75   1.997688           223491.0  1.580835      0  \n",
       "76  19.765208           137608.0  1.580835      0  "
      ]
     },
     "execution_count": 151,
     "metadata": {},
     "output_type": "execute_result"
    }
   ],
   "source": [
    "analysis_a.head()"
   ]
  },
  {
   "cell_type": "code",
   "execution_count": 152,
   "metadata": {
    "collapsed": false
   },
   "outputs": [
    {
     "data": {
      "text/plain": [
       "<matplotlib.text.Text at 0x11fbdcdd8>"
      ]
     },
     "execution_count": 152,
     "metadata": {},
     "output_type": "execute_result"
    },
    {
     "data": {
      "image/png": "[encoded data removed]",
      "text/plain": [
       "<matplotlib.figure.Figure at 0x114aa36a0>"
      ]
     },
     "metadata": {},
     "output_type": "display_data"
    }
   ],
   "source": [
    "count_classes = pd.value_counts(analysis_a['fraud'], sort = True).sort_index()\n",
    "count_classes.plot(kind = 'bar')\n",
    "plt.title(\"Fraud class histogram\")\n",
    "plt.xlabel(\"Class\")\n",
    "plt.ylabel(\"Frequency\")"
   ]
  },
  {
   "cell_type": "code",
   "execution_count": 154,
   "metadata": {
    "collapsed": false
   },
   "outputs": [
    {
     "data": {
      "text/plain": [
       "<seaborn.axisgrid.FacetGrid at 0x11fd8c080>"
      ]
     },
     "execution_count": 154,
     "metadata": {},
     "output_type": "execute_result"
    },
    {
     "data": {
      "image/png": "[encoded data removed]",
      "text/plain": [
       "<matplotlib.figure.Figure at 0x11fd79cf8>"
      ]
     },
     "metadata": {},
     "output_type": "display_data"
    }
   ],
   "source": [
    "sns.set_style('whitegrid')\n",
    "sns.lmplot('id_x_x','account_id',data=analysis_a, hue='fraud',\n",
    "           palette='coolwarm',size=6,aspect=1,fit_reg=False)"
   ]
  },
  {
   "cell_type": "code",
   "execution_count": 160,
   "metadata": {
    "collapsed": false
   },
   "outputs": [
    {
     "data": {
      "text/plain": [
       "<seaborn.axisgrid.FacetGrid at 0x12c3d59e8>"
      ]
     },
     "execution_count": 160,
     "metadata": {},
     "output_type": "execute_result"
    },
    {
     "data": {
      "image/png": "[encoded data removed]",
      "text/plain": [
       "<matplotlib.figure.Figure at 0x12c3ca630>"
      ]
     },
     "metadata": {},
     "output_type": "display_data"
    }
   ],
   "source": [
    "sns.set_style('whitegrid')\n",
    "sns.lmplot('account_id','distance',data=analysis_a, hue='fraud',\n",
    "           palette='coolwarm',size=6,aspect=1,fit_reg=False)"
   ]
  },
  {
   "cell_type": "code",
   "execution_count": 162,
   "metadata": {
    "collapsed": false
   },
   "outputs": [
    {
     "data": {
      "image/png": "[encoded data removed]",
      "text/plain": [
       "<matplotlib.figure.Figure at 0x12df435f8>"
      ]
     },
     "metadata": {},
     "output_type": "display_data"
    }
   ],
   "source": [
    "sns.set_style('darkgrid')\n",
    "g = sns.FacetGrid(analysis_a,hue=\"fraud\",palette='coolwarm',size=6,aspect=2)\n",
    "g = g.map(plt.hist,'transaction_value_y',bins=20,alpha=0.7)"
   ]
  },
  {
   "cell_type": "code",
   "execution_count": null,
   "metadata": {
    "collapsed": true
   },
   "outputs": [],
   "source": []
  },
  {
   "cell_type": "code",
   "execution_count": null,
   "metadata": {
    "collapsed": true
   },
   "outputs": [],
   "source": []
  },
  {
   "cell_type": "code",
   "execution_count": 156,
   "metadata": {
    "collapsed": false
   },
   "outputs": [
    {
     "data": {
      "text/html": [
       "<div>\n",
       "<table border=\"1\" class=\"dataframe\">\n",
       "  <thead>\n",
       "    <tr style=\"text-align: right;\">\n",
       "      <th></th>\n",
       "      <th>id</th>\n",
       "      <th>device_id</th>\n",
       "      <th>transaction_value</th>\n",
       "      <th>account_id</th>\n",
       "      <th>ts_millis</th>\n",
       "    </tr>\n",
       "  </thead>\n",
       "  <tbody>\n",
       "    <tr>\n",
       "      <th>0</th>\n",
       "      <td>7904198659766555963</td>\n",
       "      <td>1445</td>\n",
       "      <td>77.79</td>\n",
       "      <td>4588</td>\n",
       "      <td>1464898317855</td>\n",
       "    </tr>\n",
       "    <tr>\n",
       "      <th>1</th>\n",
       "      <td>5180973598844743139</td>\n",
       "      <td>2255</td>\n",
       "      <td>153.28</td>\n",
       "      <td>2255</td>\n",
       "      <td>1464898317833</td>\n",
       "    </tr>\n",
       "    <tr>\n",
       "      <th>2</th>\n",
       "      <td>7972923608280659144</td>\n",
       "      <td>1636</td>\n",
       "      <td>87.52</td>\n",
       "      <td>4779</td>\n",
       "      <td>1464898317848</td>\n",
       "    </tr>\n",
       "    <tr>\n",
       "      <th>3</th>\n",
       "      <td>9194658102408622583</td>\n",
       "      <td>1563</td>\n",
       "      <td>51.81</td>\n",
       "      <td>1563</td>\n",
       "      <td>1464898317825</td>\n",
       "    </tr>\n",
       "    <tr>\n",
       "      <th>4</th>\n",
       "      <td>8382448107208472179</td>\n",
       "      <td>2644</td>\n",
       "      <td>22.17</td>\n",
       "      <td>2644</td>\n",
       "      <td>1464898317840</td>\n",
       "    </tr>\n",
       "  </tbody>\n",
       "</table>\n",
       "</div>"
      ],
      "text/plain": [
       "                    id  device_id  transaction_value  account_id  \\\n",
       "0  7904198659766555963       1445              77.79        4588   \n",
       "1  5180973598844743139       2255             153.28        2255   \n",
       "2  7972923608280659144       1636              87.52        4779   \n",
       "3  9194658102408622583       1563              51.81        1563   \n",
       "4  8382448107208472179       2644              22.17        2644   \n",
       "\n",
       "       ts_millis  \n",
       "0  1464898317855  \n",
       "1  1464898317833  \n",
       "2  1464898317848  \n",
       "3  1464898317825  \n",
       "4  1464898317840  "
      ]
     },
     "execution_count": 156,
     "metadata": {},
     "output_type": "execute_result"
    }
   ],
   "source": [
    "tras=pd.read_csv('transaction.csv').head(10)\n",
    "tras.head()"
   ]
  },
  {
   "cell_type": "code",
   "execution_count": 163,
   "metadata": {
    "collapsed": true
   },
   "outputs": [],
   "source": [
    "from sklearn.cluster import KMeans"
   ]
  },
  {
   "cell_type": "code",
   "execution_count": 164,
   "metadata": {
    "collapsed": true
   },
   "outputs": [],
   "source": [
    "kmeans = KMeans(n_clusters=2)"
   ]
  },
  {
   "cell_type": "code",
   "execution_count": null,
   "metadata": {
    "collapsed": true
   },
   "outputs": [],
   "source": []
  },
  {
   "cell_type": "code",
   "execution_count": null,
   "metadata": {
    "collapsed": true
   },
   "outputs": [],
   "source": []
  },
  {
   "cell_type": "code",
   "execution_count": null,
   "metadata": {
    "collapsed": true
   },
   "outputs": [],
   "source": []
  },
  {
   "cell_type": "code",
   "execution_count": 157,
   "metadata": {
    "collapsed": false
   },
   "outputs": [
    {
     "data": {
      "text/html": [
       "<div>\n",
       "<table border=\"1\" class=\"dataframe\">\n",
       "  <thead>\n",
       "    <tr style=\"text-align: right;\">\n",
       "      <th></th>\n",
       "      <th>id</th>\n",
       "      <th>device_id</th>\n",
       "      <th>account_id</th>\n",
       "      <th>normAmount</th>\n",
       "    </tr>\n",
       "  </thead>\n",
       "  <tbody>\n",
       "    <tr>\n",
       "      <th>0</th>\n",
       "      <td>7904198659766555963</td>\n",
       "      <td>1445</td>\n",
       "      <td>4588</td>\n",
       "      <td>-0.369936</td>\n",
       "    </tr>\n",
       "    <tr>\n",
       "      <th>1</th>\n",
       "      <td>5180973598844743139</td>\n",
       "      <td>2255</td>\n",
       "      <td>2255</td>\n",
       "      <td>1.671607</td>\n",
       "    </tr>\n",
       "    <tr>\n",
       "      <th>2</th>\n",
       "      <td>7972923608280659144</td>\n",
       "      <td>1636</td>\n",
       "      <td>4779</td>\n",
       "      <td>-0.106799</td>\n",
       "    </tr>\n",
       "    <tr>\n",
       "      <th>3</th>\n",
       "      <td>9194658102408622583</td>\n",
       "      <td>1563</td>\n",
       "      <td>1563</td>\n",
       "      <td>-1.072536</td>\n",
       "    </tr>\n",
       "    <tr>\n",
       "      <th>4</th>\n",
       "      <td>8382448107208472179</td>\n",
       "      <td>2644</td>\n",
       "      <td>2644</td>\n",
       "      <td>-1.874117</td>\n",
       "    </tr>\n",
       "  </tbody>\n",
       "</table>\n",
       "</div>"
      ],
      "text/plain": [
       "                    id  device_id  account_id  normAmount\n",
       "0  7904198659766555963       1445        4588   -0.369936\n",
       "1  5180973598844743139       2255        2255    1.671607\n",
       "2  7972923608280659144       1636        4779   -0.106799\n",
       "3  9194658102408622583       1563        1563   -1.072536\n",
       "4  8382448107208472179       2644        2644   -1.874117"
      ]
     },
     "execution_count": 157,
     "metadata": {},
     "output_type": "execute_result"
    }
   ],
   "source": [
    "\n",
    "tras=pd.read_csv('transaction.csv').head(100)\n",
    "\n",
    "\n",
    "from sklearn.preprocessing import StandardScaler\n",
    "\n",
    "tras['normAmount'] = StandardScaler().fit_transform(tras['transaction_value'].reshape(-1, 1))\n",
    "tras = tras.drop(['ts_millis','transaction_value'],axis=1)\n",
    "tras.head()"
   ]
  },
  {
   "cell_type": "code",
   "execution_count": null,
   "metadata": {
    "collapsed": true
   },
   "outputs": [],
   "source": []
  },
  {
   "cell_type": "code",
   "execution_count": null,
   "metadata": {
    "collapsed": true
   },
   "outputs": [],
   "source": []
  },
  {
   "cell_type": "code",
   "execution_count": null,
   "metadata": {
    "collapsed": true
   },
   "outputs": [],
   "source": []
  },
  {
   "cell_type": "code",
   "execution_count": null,
   "metadata": {
    "collapsed": true
   },
   "outputs": [],
   "source": []
  },
  {
   "cell_type": "code",
   "execution_count": 158,
   "metadata": {
    "collapsed": false
   },
   "outputs": [
    {
     "data": {
      "text/plain": [
       "<seaborn.axisgrid.PairGrid at 0x11516bf98>"
      ]
     },
     "execution_count": 158,
     "metadata": {},
     "output_type": "execute_result"
    },
    {
     "data": {
      "image/png": "[encoded data removed]",
      "text/plain": [
       "<matplotlib.figure.Figure at 0x11516b828>"
      ]
     },
     "metadata": {},
     "output_type": "display_data"
    }
   ],
   "source": [
    "sns.pairplot(tras,hue='account_id',palette='Set1')"
   ]
  },
  {
   "cell_type": "code",
   "execution_count": 159,
   "metadata": {
    "collapsed": false
   },
   "outputs": [
    {
     "ename": "TypeError",
     "evalue": "string indices must be integers",
     "output_type": "error",
     "traceback": [
      "\u001b[0;31m---------------------------------------------------------------------------\u001b[0m",
      "\u001b[0;31mTypeError\u001b[0m                                 Traceback (most recent call last)",
      "\u001b[0;32m<ipython-input-159-fe6d09bcfc50>\u001b[0m in \u001b[0;36m<module>\u001b[0;34m()\u001b[0m\n\u001b[0;32m----> 1\u001b[0;31m \u001b[0msns\u001b[0m\u001b[0;34m.\u001b[0m\u001b[0mjointplot\u001b[0m\u001b[0;34m(\u001b[0m\u001b[0mx\u001b[0m\u001b[0;34m=\u001b[0m\u001b[0;34m'ts_millis'\u001b[0m\u001b[0;34m,\u001b[0m\u001b[0my\u001b[0m\u001b[0;34m=\u001b[0m\u001b[0;34m'normAmount'\u001b[0m\u001b[0;34m,\u001b[0m\u001b[0mdata\u001b[0m\u001b[0;34m=\u001b[0m\u001b[0mtras\u001b[0m\u001b[0;34m)\u001b[0m\u001b[0;34m\u001b[0m\u001b[0m\n\u001b[0m",
      "\u001b[0;32m/Users/vishnoiprem/anaconda/lib/python3.5/site-packages/seaborn/distributions.py\u001b[0m in \u001b[0;36mjointplot\u001b[0;34m(x, y, data, kind, stat_func, color, size, ratio, space, dropna, xlim, ylim, joint_kws, marginal_kws, annot_kws, **kwargs)\u001b[0m\n\u001b[1;32m    796\u001b[0m     grid = JointGrid(x, y, data, dropna=dropna,\n\u001b[1;32m    797\u001b[0m                      \u001b[0msize\u001b[0m\u001b[0;34m=\u001b[0m\u001b[0msize\u001b[0m\u001b[0;34m,\u001b[0m \u001b[0mratio\u001b[0m\u001b[0;34m=\u001b[0m\u001b[0mratio\u001b[0m\u001b[0;34m,\u001b[0m \u001b[0mspace\u001b[0m\u001b[0;34m=\u001b[0m\u001b[0mspace\u001b[0m\u001b[0;34m,\u001b[0m\u001b[0;34m\u001b[0m\u001b[0m\n\u001b[0;32m--> 798\u001b[0;31m                      xlim=xlim, ylim=ylim)\n\u001b[0m\u001b[1;32m    799\u001b[0m \u001b[0;34m\u001b[0m\u001b[0m\n\u001b[1;32m    800\u001b[0m     \u001b[0;31m# Plot the data using the grid\u001b[0m\u001b[0;34m\u001b[0m\u001b[0;34m\u001b[0m\u001b[0m\n",
      "\u001b[0;32m/Users/vishnoiprem/anaconda/lib/python3.5/site-packages/seaborn/axisgrid.py\u001b[0m in \u001b[0;36m__init__\u001b[0;34m(self, x, y, data, size, ratio, space, dropna, xlim, ylim)\u001b[0m\n\u001b[1;32m   1658\u001b[0m         \u001b[0;32mif\u001b[0m \u001b[0mdropna\u001b[0m\u001b[0;34m:\u001b[0m\u001b[0;34m\u001b[0m\u001b[0m\n\u001b[1;32m   1659\u001b[0m             \u001b[0mnot_na\u001b[0m \u001b[0;34m=\u001b[0m \u001b[0mpd\u001b[0m\u001b[0;34m.\u001b[0m\u001b[0mnotnull\u001b[0m\u001b[0;34m(\u001b[0m\u001b[0mx\u001b[0m\u001b[0;34m)\u001b[0m \u001b[0;34m&\u001b[0m \u001b[0mpd\u001b[0m\u001b[0;34m.\u001b[0m\u001b[0mnotnull\u001b[0m\u001b[0;34m(\u001b[0m\u001b[0my\u001b[0m\u001b[0;34m)\u001b[0m\u001b[0;34m\u001b[0m\u001b[0m\n\u001b[0;32m-> 1660\u001b[0;31m             \u001b[0mx\u001b[0m \u001b[0;34m=\u001b[0m \u001b[0mx\u001b[0m\u001b[0;34m[\u001b[0m\u001b[0mnot_na\u001b[0m\u001b[0;34m]\u001b[0m\u001b[0;34m\u001b[0m\u001b[0m\n\u001b[0m\u001b[1;32m   1661\u001b[0m             \u001b[0my\u001b[0m \u001b[0;34m=\u001b[0m \u001b[0my\u001b[0m\u001b[0;34m[\u001b[0m\u001b[0mnot_na\u001b[0m\u001b[0;34m]\u001b[0m\u001b[0;34m\u001b[0m\u001b[0m\n\u001b[1;32m   1662\u001b[0m \u001b[0;34m\u001b[0m\u001b[0m\n",
      "\u001b[0;31mTypeError\u001b[0m: string indices must be integers"
     ]
    },
    {
     "data": {
      "image/png": "[encoded data removed]",
      "text/plain": [
       "<matplotlib.figure.Figure at 0x1260c9be0>"
      ]
     },
     "metadata": {},
     "output_type": "display_data"
    }
   ],
   "source": [
    "sns.jointplot(x='ts_millis',y='normAmount',data=tras)"
   ]
  },
  {
   "cell_type": "code",
   "execution_count": null,
   "metadata": {
    "collapsed": true
   },
   "outputs": [],
   "source": [
    "sns.pairplot(tras)"
   ]
  },
  {
   "cell_type": "code",
   "execution_count": null,
   "metadata": {
    "collapsed": true
   },
   "outputs": [],
   "source": [
    "sns.lmplot(x='account_id',y='normAmount',data=customers)"
   ]
  },
  {
   "cell_type": "code",
   "execution_count": null,
   "metadata": {
    "collapsed": true
   },
   "outputs": [],
   "source": [
    "from sklearn.cluster import KMeans"
   ]
  },
  {
   "cell_type": "code",
   "execution_count": null,
   "metadata": {
    "collapsed": true
   },
   "outputs": [],
   "source": [
    "kmeans = KMeans(n_clusters=2)"
   ]
  },
  {
   "cell_type": "code",
   "execution_count": null,
   "metadata": {
    "collapsed": false
   },
   "outputs": [],
   "source": [
    "kmeans.fit(df.drop('fraud',axis=1))\n"
   ]
  },
  {
   "cell_type": "code",
   "execution_count": null,
   "metadata": {
    "collapsed": false
   },
   "outputs": [],
   "source": [
    "kmeans.cluster_centers_"
   ]
  },
  {
   "cell_type": "code",
   "execution_count": null,
   "metadata": {
    "collapsed": false
   },
   "outputs": [],
   "source": [
    "kmeans.labels_"
   ]
  },
  {
   "cell_type": "code",
   "execution_count": null,
   "metadata": {
    "collapsed": false
   },
   "outputs": [],
   "source": [
    "from sklearn.metrics import confusion_matrix,classification_report\n",
    "print(confusion_matrix(tras['account_id'],kmeans.labels_))\n",
    "print(classification_report(tras['normAmount'],kmeans.labels_))"
   ]
  },
  {
   "cell_type": "code",
   "execution_count": null,
   "metadata": {
    "collapsed": true
   },
   "outputs": [],
   "source": []
  },
  {
   "cell_type": "code",
   "execution_count": null,
   "metadata": {
    "collapsed": true
   },
   "outputs": [],
   "source": []
  },
  {
   "cell_type": "code",
   "execution_count": null,
   "metadata": {
    "collapsed": true
   },
   "outputs": [],
   "source": []
  },
  {
   "cell_type": "code",
   "execution_count": null,
   "metadata": {
    "collapsed": true
   },
   "outputs": [],
   "source": []
  },
  {
   "cell_type": "code",
   "execution_count": null,
   "metadata": {
    "collapsed": true
   },
   "outputs": [],
   "source": []
  },
  {
   "cell_type": "code",
   "execution_count": null,
   "metadata": {
    "collapsed": true
   },
   "outputs": [],
   "source": []
  }
 ],
 "metadata": {
  "anaconda-cloud": {},
  "kernelspec": {
   "display_name": "Python [Root]",
   "language": "python",
   "name": "Python [Root]"
  },
  "language_info": {
   "codemirror_mode": {
    "name": "ipython",
    "version": 3
   },
   "file_extension": ".py",
   "mimetype": "text/x-python",
   "name": "python",
   "nbconvert_exporter": "python",
   "pygments_lexer": "ipython3",
   "version": "3.5.2"
  }
 },
 "nbformat": 4,
 "nbformat_minor": 0
}
