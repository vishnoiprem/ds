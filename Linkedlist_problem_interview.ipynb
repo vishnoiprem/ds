{
 "cells": [
  {
   "cell_type": "markdown",
   "metadata": {},
   "source": [
    "# Link list to find Nth Node\n",
    "    "
   ]
  },
  {
   "cell_type": "code",
   "execution_count": 11,
   "metadata": {
    "collapsed": true
   },
   "outputs": [],
   "source": [
    "class Node:\n",
    "    \n",
    "    def __init__(self, value):\n",
    "        self.value=value\n",
    "        self.nextnode=None\n",
    "        "
   ]
  },
  {
   "cell_type": "code",
   "execution_count": 12,
   "metadata": {
    "collapsed": false
   },
   "outputs": [],
   "source": [
    "a=Node(1)"
   ]
  },
  {
   "cell_type": "code",
   "execution_count": 14,
   "metadata": {
    "collapsed": false
   },
   "outputs": [],
   "source": [
    "a=Node(1)\n",
    "b=Node(2)\n",
    "c=Node(3)\n",
    "d=Node(4)\n",
    "e=Node(5)\n"
   ]
  },
  {
   "cell_type": "code",
   "execution_count": 15,
   "metadata": {
    "collapsed": true
   },
   "outputs": [],
   "source": [
    "a.nextnode=b\n",
    "b.nextnode=c\n",
    "c.nextnode=d\n",
    "d.nextnode=e\n",
    "e.nextnode=None"
   ]
  },
  {
   "cell_type": "code",
   "execution_count": 20,
   "metadata": {
    "collapsed": true
   },
   "outputs": [],
   "source": [
    "def nth_to_last_node(n,head):\n",
    "    left_pointer=head\n",
    "    right_pointer=head\n",
    "    for i in range(n-1):\n",
    "        if not right_pointer.nextnode:\n",
    "            raise LookupError('Error : n is larger than the linked list')\n",
    "        right_pointer=right_pointer.nextnode\n",
    "        \n",
    "        \n",
    "    while right_pointer.nextnode:\n",
    "        left_pointer=left_pointer.nextnode\n",
    "        right_pointer=right_pointer.nextnode\n",
    "    return left_pointer\n",
    "        "
   ]
  },
  {
   "cell_type": "code",
   "execution_count": 21,
   "metadata": {
    "collapsed": true
   },
   "outputs": [],
   "source": [
    "from nose.tools import assert_equals\n",
    "\n",
    "a=Node(1)\n",
    "b=Node(2)\n",
    "c=Node(3)\n",
    "d=Node(4)\n",
    "e=Node(5)\n",
    "\n",
    "a.nextnode=b\n",
    "b.nextnode=c\n",
    "c.nextnode=d\n",
    "d.nextnode=e\n",
    "e.nextnode=None\n",
    "\n",
    "class TestNlast(object):\n",
    "    def test(self,sol):\n",
    "        assert_equals(sol(2,a),d)\n",
    "        print('All test cases passed')\n",
    "t=TestNlast()"
   ]
  },
  {
   "cell_type": "code",
   "execution_count": 22,
   "metadata": {
    "collapsed": false
   },
   "outputs": [
    {
     "name": "stdout",
     "output_type": "stream",
     "text": [
      "<__main__.TestNlast object at 0x1066acd30>\n"
     ]
    }
   ],
   "source": [
    "print(t)"
   ]
  },
  {
   "cell_type": "code",
   "execution_count": 23,
   "metadata": {
    "collapsed": false
   },
   "outputs": [
    {
     "name": "stdout",
     "output_type": "stream",
     "text": [
      "All test cases passed\n"
     ]
    },
    {
     "name": "stderr",
     "output_type": "stream",
     "text": [
      "/Users/vishnoiprem/anaconda/lib/python3.5/site-packages/ipykernel/__main__.py:17: DeprecationWarning: Please use assertEqual instead.\n"
     ]
    }
   ],
   "source": [
    "t.test(nth_to_last_node)"
   ]
  },
  {
   "cell_type": "code",
   "execution_count": null,
   "metadata": {
    "collapsed": true
   },
   "outputs": [],
   "source": []
  }
 ],
 "metadata": {
  "anaconda-cloud": {},
  "kernelspec": {
   "display_name": "Python [Root]",
   "language": "python",
   "name": "Python [Root]"
  },
  "language_info": {
   "codemirror_mode": {
    "name": "ipython",
    "version": 3
   },
   "file_extension": ".py",
   "mimetype": "text/x-python",
   "name": "python",
   "nbconvert_exporter": "python",
   "pygments_lexer": "ipython3",
   "version": "3.5.2"
  }
 },
 "nbformat": 4,
 "nbformat_minor": 0
}
